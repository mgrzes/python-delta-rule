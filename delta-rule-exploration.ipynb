{
 "cells": [
  {
   "cell_type": "markdown",
   "metadata": {},
   "source": [
    "## Practical Exploration of the Delta Rule\n",
    "University of Kent\n",
    "\n",
    "CO636/836\n",
    "\n",
    "Marek Grzes\n",
    "\n",
    "Last modified 21/11/2021\n",
    "\n",
    "This exploration complements Sec. 5.3 in O'Reilly & Munakata (2000) that introduces the delta rule for the Summed Squared Error (SSE) and linear activation. We apply the delta rule to a tiny classification problem with two classes. Since we are interested in classification, the delta rule with a sigmoidal activation (i.e. logistic regression) would be more appropriate for this problem in general, but we start with the linear activation for didactic reasons. The implications of using sigmoidal activation in the delta rule are presented in Sec. 5.4 in the textbook, and we use this fact in the final questions that are at the end of this notebook.\n",
    "\n",
    "The source code of this notebook can be found here:\n",
    "<small>\n",
    "<a href=\"https://github.com/mgrzes/python-delta-rule/blob/main/delta-rule-exploration.ipynb\">https://github.com/mgrzes/python-delta-rule/blob/main/delta-rule-exploration.ipynb</a></small>"
   ]
  },
  {
   "cell_type": "markdown",
   "metadata": {
    "pycharm": {
     "name": "#%% md\n"
    }
   },
   "source": [
    "### Generate Data\n",
    "\n",
    "We generate a small dataset with two variables $x$ and $y$, and a binary class\n",
    "attribute with values $-1$ and $1$. The data is generated from two normal\n",
    "distributions in which the variables $x$ and $y$ are not uncorrelated."
   ]
  },
  {
   "cell_type": "code",
   "execution_count": 1,
   "metadata": {
    "pycharm": {
     "name": "#%%\n"
    }
   },
   "outputs": [
    {
     "data": {
      "text/plain": "<Figure size 432x288 with 1 Axes>",
      "image/png": "[encoded data removed]"
     },
     "metadata": {
      "needs_background": "light"
     },
     "output_type": "display_data"
    }
   ],
   "source": [
    "import numpy as np\n",
    "import matplotlib.pyplot as plt\n",
    "\n",
    "# the number of data points per class\n",
    "num_points = 20\n",
    "\n",
    "# data points for class -1\n",
    "data1 = np.random.multivariate_normal([1,1], [[0.8, 0.6],[0.6, 0.7]], num_points)\n",
    "# data points for class 1\n",
    "data2 = np.random.multivariate_normal([1,-1], [[0.8, 0.6],[0.6, 0.7]], num_points)\n",
    "\n",
    "# plot both arrays\n",
    "# note that arrays are indexed [row, col]\n",
    "plt.scatter(data1[:,0], data1[:,1], c='green')\n",
    "plt.scatter(data2[:,0], data2[:,1], c='blue')\n",
    "plt.show()"
   ]
  },
  {
   "cell_type": "markdown",
   "metadata": {
    "pycharm": {
     "name": "#%% md\n"
    }
   },
   "source": [
    "Next, we add the class attribute in the third column, and we combine the two parts into one array."
   ]
  },
  {
   "cell_type": "code",
   "execution_count": 2,
   "metadata": {
    "pycharm": {
     "name": "#%%\n"
    }
   },
   "outputs": [
    {
     "name": "stdout",
     "output_type": "stream",
     "text": [
      "[[ 1.09675539  0.84906613 -1.        ]\n",
      " [-0.87480705 -0.5424641  -1.        ]\n",
      " [ 0.67727337  1.13329833 -1.        ]\n",
      " [ 1.53014202  0.49065788 -1.        ]\n",
      " [ 1.82106994 -0.98820797  1.        ]]\n"
     ]
    }
   ],
   "source": [
    "# we create one dataset with the class attribute\n",
    "# 1) add one column with the class label\n",
    "# create the class labels for both classes\n",
    "c0 = - np.ones([num_points, 1])\n",
    "c1 = np.ones([num_points, 1])\n",
    "# Append the class labels to both datasets;\n",
    "# Note that the data points in data1 will have -1 in the third\n",
    "# column and the data points in data2 will have +1.\n",
    "data1 = np.append(data1, c0, axis=1)\n",
    "data2 = np.append(data2, c1, axis=1)\n",
    "# 2) combine the two classes in one data array\n",
    "data = np.append(data1, data2, axis=0)\n",
    "\n",
    "# we shuffle the data by rows because we want positive and negative examples to be interleaved; the delta rule algorithm below will update the weights after processing one data example, i.e. we won't use batches or mini-batches.\n",
    "np.random.shuffle(data)\n",
    "\n",
    "# print the first 5 rows to see what the data looks like\n",
    "print(data[:5])"
   ]
  },
  {
   "cell_type": "markdown",
   "metadata": {
    "pycharm": {
     "name": "#%% md\n"
    }
   },
   "source": [
    "Our dataset with two classes is now in `data`. We plot it below. The two colours correspond to the two classes, i.e., the values of the class attribute."
   ]
  },
  {
   "cell_type": "code",
   "execution_count": 3,
   "metadata": {
    "pycharm": {
     "name": "#%%\n"
    }
   },
   "outputs": [
    {
     "data": {
      "text/plain": "<Figure size 432x288 with 1 Axes>",
      "image/png": "[encoded data removed]"
     },
     "metadata": {
      "needs_background": "light"
     },
     "output_type": "display_data"
    }
   ],
   "source": [
    "plt.scatter(data[:,0], data[:,1], c=data[:,2] )\n",
    "plt.show()"
   ]
  },
  {
   "cell_type": "markdown",
   "metadata": {
    "pycharm": {
     "name": "#%% md\n"
    }
   },
   "source": [
    "## Delta Rule\n",
    "\n",
    "We will use the delta rule algorithm to solve our classification problem. The variables\n",
    "$t_k$ and $o_k$ are used to be consistent with the textbook (O'Reilly & Munakata 2000).\n",
    "\n",
    "The code that is below uses the delta rule update equation:\n",
    "\n",
    "$\\Delta w_{i,k}=\\epsilon(t_k-o_k)s_i$.\n",
    "\n",
    "This equation is presented in Eq. (5.3) in O'Reilly & Munakata (2000)."
   ]
  },
  {
   "cell_type": "code",
   "execution_count": 4,
   "metadata": {
    "pycharm": {
     "name": "#%%\n"
    }
   },
   "outputs": [
    {
     "name": "stdout",
     "output_type": "stream",
     "text": [
      " [-0.4085  0.3199 -0.1051] [-0.3613  0.3492 -0.159 ] [-0.3949  0.293  -0.2086] [-0.4202  0.2848 -0.2252]\n",
      " [-0.2133  0.1726 -0.1116] [-0.1145  0.1463 -0.0385] [-0.0719  0.0393  0.0287] [-0.0308 -0.0359  0.0828]\n",
      " [-0.0328 -0.0768  0.0301] [-0.0816 -0.1028 -0.0177] [-0.0765 -0.1033 -0.0672] [-0.1218 -0.1523 -0.1013]\n",
      " [-0.1043 -0.1797 -0.0482] [-0.0603 -0.2179  0.002 ] [-0.1321 -0.2527 -0.0287] [-0.163  -0.2727 -0.0645]\n",
      " [-0.1209 -0.2328 -0.0501] [-0.1478 -0.2672 -0.0746] [-0.1714 -0.2682 -0.1164] [-0.1882 -0.286  -0.1282]\n",
      " [-0.139  -0.3287 -0.0746] [-0.1007 -0.378  -0.0344] [-0.0767 -0.4197 -0.0077] [-0.0721 -0.415  -0.0055]\n",
      " [-0.0652 -0.3943 -0.0132] [ 0.0085 -0.4265  0.0278] [ 0.1251 -0.4322  0.0726] [ 0.1727 -0.4358  0.1085]\n",
      " [ 0.1701 -0.4256  0.1035] [ 0.2276 -0.4217  0.1358] [ 0.2276 -0.4148  0.1326] [ 0.1547 -0.4931  0.1071]\n",
      " [ 0.2115 -0.4898  0.1413] [ 0.2097 -0.4661  0.1302] [ 0.2136 -0.4727  0.0774] [ 0.2284 -0.4392  0.0136]\n",
      " [ 0.1478 -0.5086 -0.0181] [ 0.1589 -0.5274 -0.0019] [ 0.1928 -0.5393  0.0165] [ 0.1566 -0.5736 -0.0007]\n",
      " [ 0.1191 -0.6027 -0.0349] [ 0.1711 -0.5704 -0.0943] [ 0.1584 -0.5917 -0.113 ] [ 0.0942 -0.6123 -0.155 ]\n",
      " [ 0.1286 -0.631  -0.136 ] [ 0.1784 -0.6442 -0.0993] [ 0.1771 -0.641  -0.1013] [ 0.1799 -0.6462 -0.0976]\n",
      " [ 0.1791 -0.662  -0.118 ] [ 0.1431 -0.6812 -0.1532] [ 0.1474 -0.6816 -0.1945] [ 0.1458 -0.6833 -0.1957]\n",
      " [ 0.1589 -0.7038 -0.1559] [ 0.18   -0.7221 -0.1319] [ 0.125  -0.7487 -0.1554] [ 0.1019 -0.7636 -0.1822]\n",
      " [ 0.2457 -0.6274 -0.1327] [ 0.2316 -0.6454 -0.1455] [ 0.2043 -0.6466 -0.194 ] [ 0.1957 -0.6557 -0.2001]\n",
      " [ 0.2186 -0.6756 -0.1752] [ 0.2252 -0.6841 -0.1682] [ 0.2203 -0.6757 -0.1736] [ 0.2348 -0.6608 -0.1665]\n",
      " [ 0.2513 -0.6109 -0.1853] [ 0.2743 -0.621  -0.1725] [ 0.3238 -0.6234 -0.1535] [ 0.3676 -0.6267 -0.1205]\n",
      " [ 0.358  -0.5889 -0.1388] [ 0.409  -0.5854 -0.1103] [ 0.409  -0.566  -0.1191] [ 0.3643 -0.614  -0.1347]\n",
      " [ 0.4132 -0.6112 -0.1053] [ 0.411  -0.5826 -0.1187] [ 0.4139 -0.5875 -0.1575] [ 0.4261 -0.5598 -0.2103]\n",
      " [ 0.3435 -0.6308 -0.2427] [ 0.3528 -0.6465 -0.2293] [ 0.3677 -0.6518 -0.2212] [ 0.3415 -0.6767 -0.2336]\n",
      " [ 0.3104 -0.7007 -0.2619] [ 0.3474 -0.6777 -0.3042] [ 0.3419 -0.687  -0.3124] [ 0.2751 -0.7084 -0.3561]\n",
      " [ 0.2892 -0.7161 -0.3483] [ 0.3365 -0.7287 -0.3133] [ 0.3346 -0.7238 -0.3163] [ 0.3366 -0.7276 -0.3137]\n",
      " [ 0.3364 -0.7328 -0.3204] [ 0.3045 -0.7498 -0.3516] [ 0.3077 -0.7501 -0.3821] [ 0.3109 -0.7466 -0.3796]\n",
      " [ 0.3256 -0.7696 -0.335 ] [ 0.3459 -0.7872 -0.3119] [ 0.2752 -0.8215 -0.3421] [ 0.2564 -0.8337 -0.364 ]\n",
      " [ 0.3894 -0.7076 -0.3182] [ 0.383  -0.7158 -0.3241] [ 0.3583 -0.7169 -0.3678] [ 0.354  -0.7214 -0.3708]\n",
      " [ 0.3757 -0.7402 -0.3472] [ 0.3796 -0.7452 -0.3431] [ 0.372  -0.7321 -0.3515] [ 0.3852 -0.7186 -0.345 ]\n",
      " [ 0.3948 -0.6896 -0.356 ] [ 0.4045 -0.6938 -0.3506] [ 0.4318 -0.6951 -0.3401] [ 0.478  -0.6987 -0.3053]\n",
      " [ 0.4679 -0.6586 -0.3247] [ 0.5187 -0.6551 -0.2962] [ 0.5187 -0.6394 -0.3034] [ 0.4877 -0.6726 -0.3143]\n",
      " [ 0.535  -0.6699 -0.2858] [ 0.5331 -0.6451 -0.2974] [ 0.5353 -0.6487 -0.3265] [ 0.5456 -0.6253 -0.371 ]\n",
      " [ 0.463  -0.6964 -0.4034] [ 0.4723 -0.7122 -0.3899] [ 0.4778 -0.7141 -0.3869] [ 0.4578 -0.7332 -0.3964]\n",
      " [ 0.4313 -0.7537 -0.4206] [ 0.458  -0.7371 -0.4511] [ 0.4572 -0.7385 -0.4523] [ 0.3895 -0.7602 -0.4966]\n",
      " [ 0.3928 -0.7619 -0.4947] [ 0.4394 -0.7743 -0.4602] [ 0.4378 -0.7702 -0.4628] [ 0.44   -0.7742 -0.46  ]\n",
      " [ 0.44   -0.7725 -0.4578] [ 0.4108 -0.7881 -0.4864] [ 0.4133 -0.7883 -0.5095] [ 0.4193 -0.7818 -0.505 ]\n",
      " [ 0.4352 -0.8066 -0.4568] [ 0.4554 -0.8241 -0.4338] [ 0.3739 -0.8637 -0.4686] [ 0.3578 -0.874  -0.4872]\n",
      " [ 0.482  -0.7563 -0.4445] [ 0.4807 -0.758  -0.4457] [ 0.458  -0.759  -0.4861] [ 0.4566 -0.7605 -0.4871]\n",
      " [ 0.4778 -0.7789 -0.4639] [ 0.4804 -0.7822 -0.4612] [ 0.4714 -0.7667 -0.4711] [ 0.4835 -0.7543 -0.4652]\n",
      " [ 0.4882 -0.7401 -0.4706] [ 0.4896 -0.7407 -0.4698] [ 0.5028 -0.7413 -0.4647] [ 0.5507 -0.745  -0.4286]\n",
      " [ 0.5403 -0.7038 -0.4486] [ 0.5911 -0.7004 -0.4201] [ 0.5911 -0.6873 -0.426 ] [ 0.5692 -0.7109 -0.4337]\n",
      " [ 0.6154 -0.7082 -0.4059] [ 0.6137 -0.6861 -0.4163] [ 0.6154 -0.6889 -0.4388] [ 0.6244 -0.6684 -0.4779]\n",
      " [ 0.5419 -0.7394 -0.5102] [ 0.5513 -0.7553 -0.4966] [ 0.5507 -0.7551 -0.497 ] [ 0.5347 -0.7703 -0.5045]\n",
      " [ 0.5112 -0.7885 -0.5259] [ 0.5311 -0.7762 -0.5487] [ 0.5334 -0.7723 -0.5452] [ 0.4652 -0.7942 -0.5898]\n",
      " [ 0.4613 -0.7921 -0.5919] [ 0.5076 -0.8044 -0.5577] [ 0.5061 -0.8008 -0.56  ] [ 0.5084 -0.8049 -0.557 ]\n",
      " [ 0.5087 -0.7987 -0.549 ] [ 0.4813 -0.8133 -0.5758] [ 0.4832 -0.8134 -0.5941] [ 0.4911 -0.8049 -0.5881]\n",
      " [ 0.5078 -0.831  -0.5376] [ 0.5279 -0.8485 -0.5146] [ 0.4392 -0.8915 -0.5525] [ 0.4251 -0.9006 -0.569 ]\n",
      " [ 0.5434 -0.7885 -0.5283] [ 0.5455 -0.7859 -0.5264] [ 0.524  -0.7868 -0.5645] [ 0.5244 -0.7863 -0.5642]\n",
      " [ 0.5454 -0.8045 -0.5413] [ 0.5471 -0.8067 -0.5395] [ 0.5373 -0.7895 -0.5504] [ 0.5486 -0.7779 -0.5449]\n",
      " [ 0.5501 -0.7735 -0.5465] [ 0.546  -0.7717 -0.5488] [ 0.5499 -0.7719 -0.5473] [ 0.5989 -0.7757 -0.5104]\n",
      " [ 0.5883 -0.7338 -0.5307] [ 0.6392 -0.7303 -0.5022] [ 0.6392 -0.719  -0.5073] [ 0.6231 -0.7363 -0.5129]\n",
      " [ 0.6687 -0.7337 -0.4855] [ 0.6671 -0.7133 -0.495 ] [ 0.6685 -0.7156 -0.5133] [ 0.6767 -0.697  -0.5487]\n",
      " [ 0.5942 -0.768  -0.5811] [ 0.6036 -0.7839 -0.5674] [ 0.599  -0.7823 -0.5699] [ 0.5857 -0.7949 -0.5762]\n",
      " [ 0.5642 -0.8116 -0.5958] [ 0.5796 -0.802  -0.6133] [ 0.5839 -0.7947 -0.6068] [ 0.5153 -0.8167 -0.6517]\n",
      " [ 0.5068 -0.812  -0.6564] [ 0.5527 -0.8243 -0.6224] [ 0.5514 -0.821  -0.6244] [ 0.5538 -0.8253 -0.6213]\n",
      " [ 0.5542 -0.816  -0.6094] [ 0.528 -0.83  -0.635] [ 0.5296 -0.8301 -0.6501] [ 0.5387 -0.8203 -0.6432]\n",
      " [ 0.5559 -0.8472 -0.5911] [ 0.576  -0.8646 -0.5682] [ 0.4825 -0.9099 -0.6081] [ 0.4696 -0.9182 -0.6232]\n",
      " [ 0.584  -0.8098 -0.5838] [ 0.5884 -0.8043 -0.5799] [ 0.5677 -0.8052 -0.6165] [ 0.5694 -0.8033 -0.6153]\n",
      " [ 0.5903 -0.8214 -0.5926] [ 0.5914 -0.8228 -0.5914] [ 0.5809 -0.8047 -0.603 ] [ 0.5918 -0.7935 -0.5977]\n",
      " [ 0.5911 -0.7957 -0.5969] [ 0.5834 -0.7923 -0.6012] [ 0.5811 -0.7922 -0.6021] [ 0.6309 -0.796  -0.5646]\n",
      " [ 0.6201 -0.7536 -0.5851] [ 0.671  -0.7502 -0.5566] [ 0.671  -0.7401 -0.5612] [ 0.6589 -0.7531 -0.5654]\n",
      " [ 0.704  -0.7505 -0.5382] [ 0.7025 -0.7313 -0.5472] [ 0.7037 -0.7332 -0.5626] [ 0.7113 -0.7159 -0.5956]\n",
      " [ 0.6288 -0.7869 -0.628 ] [ 0.6383 -0.8029 -0.6142] [ 0.631  -0.8003 -0.6182] [ 0.6194 -0.8113 -0.6237]\n",
      " [ 0.5993 -0.8268 -0.642 ] [ 0.6117 -0.8192 -0.6562] [ 0.6174 -0.8095 -0.6476] [ 0.5486 -0.8316 -0.6926]\n",
      " [ 0.5369 -0.8253 -0.699 ] [ 0.5827 -0.8374 -0.6652] [ 0.5815 -0.8344 -0.6671] [ 0.5838 -0.8388 -0.664 ]\n",
      " [ 0.5844 -0.8275 -0.6494] [ 0.559  -0.841  -0.6743] [ 0.5604 -0.8411 -0.6872] [ 0.5703 -0.8304 -0.6798]\n",
      " [ 0.5878 -0.8579 -0.6266] [ 0.6078 -0.8753 -0.6037] [ 0.5113 -0.9221 -0.645 ] [ 0.4991 -0.9299 -0.6591]\n",
      " [ 0.611  -0.8239 -0.6206] [ 0.6168 -0.8165 -0.6153] [ 0.5967 -0.8174 -0.651 ] [ 0.5992 -0.8147 -0.6492]\n",
      " [ 0.62   -0.8326 -0.6266] [ 0.6207 -0.8336 -0.6258] [ 0.6099 -0.8147 -0.6378] [ 0.6204 -0.8039 -0.6327]\n",
      " [ 0.6182 -0.8103 -0.6303] [ 0.6081 -0.8059 -0.6359] [ 0.6018 -0.8056 -0.6383] [ 0.652  -0.8095 -0.6005]\n",
      " [ 0.6412 -0.7668 -0.6211] [ 0.6921 -0.7633 -0.5927] [ 0.6921 -0.754  -0.5969] [ 0.6825 -0.7643 -0.6002]\n",
      " [ 0.7274 -0.7617 -0.5732] [ 0.726  -0.7432 -0.5818] [ 0.727  -0.7449 -0.5953] [ 0.7343 -0.7285 -0.6267]\n",
      " [ 0.6518 -0.7994 -0.6591] [ 0.6613 -0.8155 -0.6453] [ 0.6522 -0.8123 -0.6503] [ 0.6418 -0.8221 -0.6552]\n",
      " [ 0.6226 -0.837  -0.6727] [ 0.633  -0.8306 -0.6846] [ 0.6396 -0.8194 -0.6747] [ 0.5706 -0.8415 -0.7198]\n",
      " [ 0.5569 -0.8341 -0.7273] [ 0.6025 -0.8462 -0.6936] [ 0.6014 -0.8433 -0.6954] [ 0.6038 -0.8477 -0.6922]\n",
      " [ 0.6044 -0.8351 -0.6759] [ 0.5795 -0.8483 -0.7003] [ 0.5807 -0.8485 -0.7118] [ 0.5912 -0.8372 -0.704 ]\n",
      " [ 0.6089 -0.865  -0.6501] [ 0.6289 -0.8823 -0.6273] [ 0.5303 -0.9302 -0.6694] [ 0.5187 -0.9377 -0.6829]\n",
      " [ 0.6289 -0.8333 -0.645 ] [ 0.6356 -0.8246 -0.6388] [ 0.6159 -0.8255 -0.6738] [ 0.619  -0.8222 -0.6716]\n",
      " [ 0.6397 -0.8401 -0.6491] [ 0.6401 -0.8407 -0.6486] [ 0.629  -0.8214 -0.6609] [ 0.6393 -0.8108 -0.6559]\n",
      " [ 0.6362 -0.8201 -0.6524] [ 0.6245 -0.815  -0.6589] [ 0.6155 -0.8145 -0.6624] [ 0.6661 -0.8184 -0.6243]\n",
      " [ 0.6552 -0.7755 -0.6451] [ 0.706  -0.7721 -0.6166] [ 0.706  -0.7633 -0.6205] [ 0.6983 -0.7717 -0.6233]\n",
      " [ 0.7429 -0.7691 -0.5964] [ 0.7415 -0.7511 -0.6048] [ 0.7425 -0.7527 -0.617 ] [ 0.7495 -0.7368 -0.6473]\n",
      " [ 0.667  -0.8077 -0.6797] [ 0.6766 -0.8238 -0.6659] [ 0.6662 -0.8202 -0.6715] [ 0.6567 -0.8292 -0.6761]\n"
     ]
    }
   ],
   "source": [
    "# A coroutine that receives data and prints it. To make the core\n",
    "# algorithm easier to read, we will start this coroutine to print\n",
    "# the intermediate results.\n",
    "def printer():\n",
    "    i = 0\n",
    "    line=\"\"\n",
    "    while True:\n",
    "        vec = yield\n",
    "        if vec.size == 1:\n",
    "            if i > 0:\n",
    "                # print anything that is left in the buffer\n",
    "                print(line)\n",
    "                i = 0\n",
    "                line = \"\"\n",
    "        else:\n",
    "            i = i + 1\n",
    "            line = line + \" \" + str(np.round(vec,4))\n",
    "            if i % 4 == 0:\n",
    "                print(line)\n",
    "                line = \"\"\n",
    "                i = 0\n",
    "\n",
    "printer_handler = printer()\n",
    "# start the printer\n",
    "printer_handler.send(None)\n",
    "\n",
    "# we need 3 parameters/weights: one for x, one for y, and one for the bias term; we initialise them randomly\n",
    "w = np.random.normal(0, 0.5, 3)\n",
    "# learning rate\n",
    "epsilon = 0.05\n",
    "delta = 100\n",
    "iteration = 0\n",
    "# precision is used to check if the changes are small enough and the execution can be terminated\n",
    "precision=0.01\n",
    "\n",
    "while delta > precision and iteration < 10:\n",
    "    iteration = iteration + 1\n",
    "    # to be consistent with the textbook, we will process one data point at a time\n",
    "    for s in data:\n",
    "        # compute the linear activation (predicted output)\n",
    "        s_with_bias = np.copy(s)\n",
    "        s_with_bias[2] = 1 # the last element (the class) is overwritten here to be used as the bias activation\n",
    "        o_k =  w.dot(s_with_bias) # see Eq. 5.6 in O'Reilly & Munakata (2000)\n",
    "        t_k = s[2]\n",
    "        # the delta rule equation in the vector form\n",
    "        delta_w = epsilon * (t_k - o_k) * s_with_bias # see Eq. 5.3 in O'Reilly & Munakata (2000)\n",
    "        w = w + delta_w\n",
    "        # if the max change is tiny, we will stop learning in the while loop\n",
    "        delta=np.max(np.absolute(delta_w))\n",
    "        # print the current weights\n",
    "        printer_handler.send(w)\n",
    "\n",
    "# print the remaining values if there are any\n",
    "printer_handler.send(np.zeros([1,1]))"
   ]
  },
  {
   "cell_type": "markdown",
   "metadata": {
    "pycharm": {
     "name": "#%% md\n"
    }
   },
   "source": [
    "## The Final Decision Boundary and the Threshold\n",
    "\n",
    "The class attribute in our `data` object has values -1 and 1 whereas the outputs of the linear model are between minus and plus infinity. This means that we need to introduce a threshold that will allow us to map the continuous output to the class value. A threshold of zero is a good default choice because it lies between -1 and 1. With that all the output activations that are negative will be mapped to class -1, and all the output activations that are positive or zero will be mapped to class +1.\n",
    "\n",
    "The ensuing decision boundary in 3D is $z=w[0]\\times x + w[1]\\times y + w[2]$. When the threshold is zero, this boundary in the 2D space defined by the xy-plane becomes $y = -\\frac{w[0]}{w[1]}\\times x-\\frac{w[2]}{w[1]}$. This boundary will be shown as a red line in the figure below."
   ]
  },
  {
   "cell_type": "code",
   "execution_count": 5,
   "metadata": {
    "pycharm": {
     "name": "#%%\n"
    }
   },
   "outputs": [
    {
     "data": {
      "text/plain": "<Figure size 432x288 with 1 Axes>",
      "image/png": "[encoded data removed]"
     },
     "metadata": {
      "needs_background": "light"
     },
     "output_type": "display_data"
    }
   ],
   "source": [
    "# plot the final line\n",
    "\n",
    "# construct the line using 100 points\n",
    "x = np.linspace(np.min(data[:,0]),np.max(data[:,0]),100)\n",
    "# this equation corresponds to our decision boundary on the xy-plane when the threshold is zero; see the discussion above\n",
    "y = -w[0]/w[1]*x-w[2]/w[1]\n",
    "ymin = np.min(data[:,1])\n",
    "ymax = np.max(data[:,1])\n",
    "\n",
    "# plot the data and the line\n",
    "plt.ylim(ymin-0.3, ymax+0.3)\n",
    "# plot two classes separately\n",
    "plt.scatter(data1[:,0], data1[:,1], c='green', label='Class -1' )\n",
    "plt.scatter(data2[:,0], data2[:,1], c='blue', label='Class 1' )\n",
    "plt.plot(x, y, '-r', label='boundary')\n",
    "plt.legend()\n",
    "plt.show()"
   ]
  },
  {
   "cell_type": "markdown",
   "metadata": {
    "pycharm": {
     "name": "#%% md\n"
    }
   },
   "source": [
    "## SSE Error on Training Data\n",
    "\n",
    "The delta rule algorithm executed above gave us the vector of weights $w$. This vector represents our solution, and we can call it our model.\n",
    "\n",
    "Now, we will compute the number of errors on the training data, assuming that our model is $w$. The first type of errors that we compute below are classification errors, i.e., we apply the threshold of $0$ to decide whether the class is -1 or +1. The second type of errors are the explicit differences between the predicted output and the class attribute. You will see in the questions below that having both errors we will be in a better position to gain deeper insights into the properties of delta rule."
   ]
  },
  {
   "cell_type": "code",
   "execution_count": 6,
   "metadata": {
    "pycharm": {
     "name": "#%%\n"
    }
   },
   "outputs": [
    {
     "name": "stdout",
     "output_type": "stream",
     "text": [
      "SSE on training data: 7.045288451081077\n",
      "Number of errors on training data: 1\n"
     ]
    }
   ],
   "source": [
    "# we need to add bias activations in the last column\n",
    "data_with_bias = np.copy(data)\n",
    "data_with_bias[:,2]=1\n",
    "\n",
    "# predictions are the outputs computed by the linear model\n",
    "predictions = w.dot(data_with_bias.transpose())\n",
    "\n",
    "# compute the summed squared error with respect to the linear activation; i.e., we want to see see how well the linear function approximates the values of our class attribute\n",
    "SSE = np.sum(np.square(predictions-data[:,2]))\n",
    "\n",
    "# this is the same threshold that we used to derive the red decision boundary above; with this threshold, our classification below will be consistent with the red line above\n",
    "threshold = 0\n",
    "\n",
    "# apply threshold to make discrete decisions\n",
    "predictions[predictions<threshold] = -1\n",
    "predictions[predictions>=threshold] = 1\n",
    "# print(predictions)\n",
    "# print(data[:,2])\n",
    "\n",
    "# diff will be zero when the classification is correct\n",
    "diff = predictions - data[:,2]\n",
    "# indices of data items with incorrect predictions\n",
    "erroneous = diff.nonzero()[0]\n",
    "# count the number of incorrect predictions\n",
    "accuracy = np.size(erroneous)\n",
    "\n",
    "print(\"SSE on training data: \" + str(SSE) )\n",
    "print(\"Number of errors on training data: \" + str(accuracy) )"
   ]
  },
  {
   "cell_type": "markdown",
   "metadata": {
    "collapsed": true,
    "pycharm": {
     "name": "#%% md\n"
    }
   },
   "source": [
    "## Questions\n",
    "\n",
    "You are not required to answer all the questions that are below. I would encourage you to attempt the first five. The last two questions require a certain amount of coding in Python, and they can be skipped by those who are not interested in further exploration.\n",
    "\n",
    "1. Read this notebook and analyse all sections trying to understand them and trying to see the link with the textbook and the lectures.\n",
    "\n",
    "2. The red line in Sec. _\"The Final Decision Boundary and the Threshold\"_ is the decision boundary for our classification problem, and it corresponds to the threshold of zero. How would this decision boundary change if the threshold was smaller or greater than zero? Note which data points have the class -1 and which +1; this can be seen in the legend in the figure. You may want to do subsequent questions first if this question is challenging for you initially.\n",
    "\n",
    "3. Add the computation of the Summed Squared Error (SSE) in the `while` loop of the learning algorithm and print its value. Note that we are interested in the SSE between the true class value and the linear output of our neural network because this is what our current implementation if the delta rule optimises.\n",
    "\n",
    "4. In the current implementation, the final decision boundary (the red line in the figure above) is plotted after the learning process has finished. Your task is to plot the data and the current boundary in the `while` or `for` loop of the learning algorithm. The goal is to investigate how the decision boundary is changing during learning, and to contrast those changes with the changes in the SSE that will be printed at the same time after you have implemented step 3. We want to see the decision boundary after every application of the delta rule equation; now, we can only see this boundary after the learning process has terminated.\n",
    "\n",
    "5. If you run the simulation several times, you will notice that the SSE may be non-zero even if the number of classification errors on the training data is zero or close to zero. Explain how this is possible. In your explanation, study and analyse the differences between the SSE and classification errors that are computed in this document. Even if you don't do subsequent questions, try to analyse those two errors and their relationship in detail.\n",
    "\n",
    "6. The decision boundary that is learned has the form: $z=w[0]\\times x+w[1]\\times y+w[2]$ where $z$ is the last (third) column in our training data, and it represents the class attribute.  Similarly, $x$ and $y$ are the first and the second columns in the data array respectively. This means that, strictly speaking, the decision boundary is a plane located in a 3-dimensional xyz-space. Explain how this plane is placed with respect to the flat scatterplot of the data examples in their xy-plane (i.e. the graph with the red line above). After trying to estimate the location of the separating hyperplane in 3D, you could construct a 3-dimensional version of this plot to see where exactly this plane is located. An example 3D scatterplot in mathplotib is here https://matplotlib.org/3.1.1/gallery/mplot3d/scatter3d.html\n",
    "\n",
    "7. Add the sigmoidal activation to our implementation of delta rule. Note that assuming that we are switching to the Cross-Entropy error (CE) instead of the Summed Squared Error (SSE), the update equation for the delta rule remains unchanged. The only difference is the activation function that is sigmoidal and takes the original linear activation as input. This is well explained in Sec. 5.4 in O'Reilly & Munakata (2000). Since the range of the sigmoid function is the interval $[0,1]$, it would make sense to replace the class -1 with 0 in our data. So, when you are working on this question, your classes should be 0 and 1 in the `data` object.\n",
    "\n",
    "8. When your implementation of question 7 is complete, repeat question 6 and apply its analysis and your code to the new problem with the sigmoidal activation. At this point, you will have two pretty visualisations that will show you the properties of the linear and sigmoidal activations, and their impact on the classification and SSE errors."
   ]
  },
  {
   "cell_type": "markdown",
   "metadata": {
    "pycharm": {
     "name": "#%% md\n"
    }
   },
   "source": [
    "## References\n",
    "\n",
    "O'Reilly, Randall C., and Yuko Munakata. Computational explorations in cognitive neuroscience: Understanding the mind by simulating the brain. MIT press, 2000.\n"
   ]
  },
  {
   "cell_type": "markdown",
   "metadata": {
    "pycharm": {
     "name": "#%% md\n"
    }
   },
   "source": [
    "<small>This document was written in Pycharm Professional and compiled using Python 3.8 with standard packages available in Ubuntu 20.04.</small>\n"
   ]
  }
 ],
 "metadata": {
  "kernelspec": {
   "display_name": "PyCharm (python-delta-rule)",
   "language": "python",
   "name": "pycharm-eef80f61"
  },
  "language_info": {
   "codemirror_mode": {
    "name": "ipython",
    "version": 3
   },
   "file_extension": ".py",
   "mimetype": "text/x-python",
   "name": "python",
   "nbconvert_exporter": "python",
   "pygments_lexer": "ipython3",
   "version": "3.8.5"
  }
 },
 "nbformat": 4,
 "nbformat_minor": 1
}