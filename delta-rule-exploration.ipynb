{
 "cells": [
  {
   "cell_type": "markdown",
   "metadata": {},
   "source": [
    "## Practical Exploration of the Delta Rule\n",
    "University of Kent\n",
    "\n",
    "CO636/836\n",
    "\n",
    "Marek Grzes\n",
    "\n",
    "Last modified 14/10/2020\n",
    "\n",
    "This exploration complements Sec. 5.3 in O'reilly & Munakata (2000) that introduces the delta rule for the Summed Squared Error (SSE) and linear activation. We apply the delta rule to a tiny classification problem with two classes. Since we are interested in classification, the delta rule with a sigmoidal activation (i.e. logistic regression) would be more appropriate for this problem in general, but we start with the linear activation for didactic reasons. The implications of using sigmoidal activation in the delta rule are presented in Sec. 5.4 in the textbook, and we use this fact in the final questions that are at the end of this notebook.\n",
    "\n",
    "<small>\n",
    "<a href=\"https://github.com/mgrzes/python-delta-rule/blob/main/delta-rule-exploration.ipynb\">https://github.com/mgrzes/python-delta-rule/blob/main/delta-rule-exploration.ipynb</a></small>"
   ]
  },
  {
   "cell_type": "markdown",
   "metadata": {
    "pycharm": {
     "name": "#%% md\n"
    }
   },
   "source": [
    "### Generate Data\n",
    "\n",
    "We generate a small dataset with two variables $x$ and $y$, and a binary class\n",
    "attribute with values $-1$ and $1$. The data is generated from two normal\n",
    "distributions in which the variables $x$ and $y$ are not uncorrelated."
   ]
  },
  {
   "cell_type": "code",
   "execution_count": 1,
   "metadata": {
    "pycharm": {
     "name": "#%%\n"
    }
   },
   "outputs": [
    {
     "data": {
      "text/plain": "<Figure size 432x288 with 1 Axes>",
      "image/png": "[encoded data removed]"
     },
     "metadata": {
      "needs_background": "light"
     },
     "output_type": "display_data"
    }
   ],
   "source": [
    "import numpy as np\n",
    "import matplotlib.pyplot as plt\n",
    "\n",
    "# the number of data points per class\n",
    "num_points = 20\n",
    "\n",
    "# data points for class -1\n",
    "data1 = np.random.multivariate_normal([1,1], [[0.8, 0.6],[0.6, 0.7]], num_points)\n",
    "# data points for class 1\n",
    "data2 = np.random.multivariate_normal([1,-1], [[0.8, 0.6],[0.6, 0.7]], num_points)\n",
    "\n",
    "# plot both arrays\n",
    "# note that arrays are indexed [row, col]\n",
    "plt.scatter(data1[:,0], data1[:,1], c='green')\n",
    "plt.scatter(data2[:,0], data2[:,1], c='blue')\n",
    "plt.show()"
   ]
  },
  {
   "cell_type": "markdown",
   "metadata": {
    "pycharm": {
     "name": "#%% md\n"
    }
   },
   "source": [
    "Next, we add the class attribute in the third column, and we combine the two parts into one array."
   ]
  },
  {
   "cell_type": "code",
   "execution_count": 2,
   "metadata": {
    "pycharm": {
     "name": "#%%\n"
    }
   },
   "outputs": [
    {
     "name": "stdout",
     "output_type": "stream",
     "text": [
      "[[ 1.82862431  1.23274684 -1.        ]\n",
      " [-0.44413486 -0.37494491 -1.        ]\n",
      " [ 1.38344424 -0.80953452  1.        ]\n",
      " [ 0.44103485  0.50753848 -1.        ]\n",
      " [-0.28843404 -1.02374928  1.        ]]\n"
     ]
    }
   ],
   "source": [
    "# we create one dataset with the class attribute\n",
    "# 1) add one column with the class label\n",
    "# create the class labels for both classes\n",
    "c0 = - np.ones([num_points, 1])\n",
    "c1 = np.ones([num_points, 1])\n",
    "# append the class labels to both datasets\n",
    "data1 = np.append(data1, c0, axis=1)\n",
    "data2 = np.append(data2, c1, axis=1)\n",
    "# 2) combine the two classes in one data array\n",
    "data = np.append(data1, data2, axis=0)\n",
    "\n",
    "# we shuffle the data by rows because we want positive and negative examples to be interleaved; the algorithm below will update the weights after processing one data example\n",
    "np.random.shuffle(data)\n",
    "\n",
    "# print the first 5 rows to see what the data looks like\n",
    "print(data[:5])"
   ]
  },
  {
   "cell_type": "markdown",
   "metadata": {
    "pycharm": {
     "name": "#%% md\n"
    }
   },
   "source": [
    "We plot the final dataset that contains both classes in one array."
   ]
  },
  {
   "cell_type": "code",
   "execution_count": 3,
   "metadata": {
    "pycharm": {
     "name": "#%%\n"
    }
   },
   "outputs": [
    {
     "data": {
      "text/plain": "<Figure size 432x288 with 1 Axes>",
      "image/png": "[encoded data removed]"
     },
     "metadata": {
      "needs_background": "light"
     },
     "output_type": "display_data"
    }
   ],
   "source": [
    "plt.scatter(data[:,0], data[:,1], c=data[:,2] )\n",
    "plt.show()"
   ]
  },
  {
   "cell_type": "markdown",
   "metadata": {
    "pycharm": {
     "name": "#%% md\n"
    }
   },
   "source": [
    "## Delta Rule\n",
    "\n",
    "We will use the delta rule algorithm to solve our classification problem. Variables\n",
    "$t_k$ and $o_k$ are used to be consistent with the textbook (O'reilly & Munakata 2000).\n",
    "\n",
    "The code that is below uses the delta rule update equation: $\\Delta w_{i,k}=\\epsilon(t_k-o_k)s_i$ that is presented in Eq. (5.3) in O'reilly & Munakata (2000)."
   ]
  },
  {
   "cell_type": "code",
   "execution_count": 4,
   "metadata": {
    "pycharm": {
     "name": "#%%\n"
    }
   },
   "outputs": [
    {
     "name": "stdout",
     "output_type": "stream",
     "text": [
      " [-0.2576 -0.8834 -0.5462] [-0.2376 -0.8666 -0.5912] [-0.1533 -0.9159 -0.5303]\n",
      " [-0.1519 -0.9143 -0.5271] [-0.1598 -0.9423 -0.4998] [-0.1653 -0.9657 -0.4784]\n",
      " [ 0.0603 -0.9071 -0.3636] [ 0.0685 -0.8978 -0.354 ] [ 0.1402 -0.8397 -0.3189]\n",
      " [ 0.1448 -0.8432 -0.3161] [ 0.1374 -0.8397 -0.3554] [ 0.1206 -0.8436 -0.3861]\n",
      " [ 0.1535 -0.7611 -0.4184] [ 0.1436 -0.7683 -0.4291] [ 0.1791 -0.7949 -0.3932]\n",
      " [ 0.2523 -0.7025 -0.3514] [ 0.2819 -0.7243 -0.3154] [ 0.2813 -0.722  -0.3167]\n",
      " [ 0.3114 -0.6904 -0.302 ] [ 0.368  -0.6929 -0.2599] [ 0.3623 -0.6999 -0.264 ]\n",
      " [ 0.3852 -0.7049 -0.2526] [ 0.3929 -0.7088 -0.2793] [ 0.4095 -0.723  -0.2334]\n",
      " [ 0.4036 -0.738  -0.2256] [ 0.4283 -0.6253 -0.2628] [ 0.3868 -0.6646 -0.2799]\n",
      " [ 0.3633 -0.6837 -0.3099] [ 0.4398 -0.6742 -0.2744] [ 0.4302 -0.685  -0.2792]\n",
      " [ 0.418  -0.5804 -0.317 ] [ 0.4826 -0.5672 -0.2732] [ 0.5366 -0.5551 -0.2485]\n",
      " [ 0.5234 -0.5783 -0.2753] [ 0.4851 -0.5979 -0.3211] [ 0.4957 -0.602  -0.3147]\n",
      " [ 0.4846 -0.6195 -0.3254] [ 0.4899 -0.6016 -0.3314] [ 0.442  -0.6432 -0.3622]\n",
      " [ 0.4032 -0.6777 -0.3802] [ 0.3555 -0.7098 -0.4063] [ 0.3711 -0.6967 -0.4414]\n",
      " [ 0.3963 -0.7114 -0.4232] [ 0.3877 -0.7213 -0.4427] [ 0.3759 -0.7631 -0.4019]\n",
      " [ 0.3674 -0.7993 -0.3687] [ 0.4711 -0.7724 -0.316 ] [ 0.4568 -0.7887 -0.3328]\n",
      " [ 0.4266 -0.8131 -0.3475] [ 0.3993 -0.7921 -0.3646] [ 0.3919 -0.7886 -0.4037]\n",
      " [ 0.3725 -0.793  -0.4393] [ 0.383  -0.7667 -0.4496] [ 0.3647 -0.7798 -0.4692]\n",
      " [ 0.391  -0.7995 -0.4427] [ 0.4369 -0.7415 -0.4165] [ 0.462  -0.7599 -0.386 ]\n",
      " [ 0.4597 -0.7516 -0.3909] [ 0.4667 -0.7443 -0.3875] [ 0.5148 -0.7464 -0.3518]\n",
      " [ 0.5074 -0.7554 -0.3571] [ 0.5081 -0.7556 -0.3567] [ 0.5137 -0.7584 -0.376 ]\n",
      " [ 0.531  -0.7732 -0.3283] [ 0.5217 -0.7968 -0.3159] [ 0.5467 -0.6827 -0.3536]\n",
      " [ 0.4975 -0.7292 -0.374 ] [ 0.4758 -0.7469 -0.4015] [ 0.5379 -0.7392 -0.3727]\n",
      " [ 0.5331 -0.7445 -0.3751] [ 0.5192 -0.6258 -0.418 ] [ 0.5813 -0.6131 -0.376 ]\n",
      " [ 0.6254 -0.6033 -0.3558] [ 0.6148 -0.6219 -0.3773] [ 0.5783 -0.6405 -0.4209]\n",
      " [ 0.582  -0.642  -0.4187] [ 0.5751 -0.6529 -0.4254] [ 0.5768 -0.647  -0.4273]\n",
      " [ 0.5307 -0.6871 -0.4571] [ 0.4906 -0.7228 -0.4757] [ 0.4421 -0.7554 -0.5022]\n",
      " [ 0.455  -0.7445 -0.5314] [ 0.4757 -0.7566 -0.5165] [ 0.4689 -0.7644 -0.5319]\n",
      " [ 0.4562 -0.8097 -0.4877] [ 0.447  -0.849  -0.4518] [ 0.5459 -0.8233 -0.4015]\n",
      " [ 0.5346 -0.8362 -0.4147] [ 0.5046 -0.8605 -0.4294] [ 0.4691 -0.8331 -0.4515]\n",
      " [ 0.4624 -0.8299 -0.4871] [ 0.4443 -0.8341 -0.5202] [ 0.4523 -0.814  -0.528 ]\n",
      " [ 0.4362 -0.8257 -0.5454] [ 0.4611 -0.8442 -0.5203] [ 0.5117 -0.7803 -0.4913]\n",
      " [ 0.5364 -0.7984 -0.4614] [ 0.5335 -0.7882 -0.4675] [ 0.5409 -0.7804 -0.4639]\n",
      " [ 0.5873 -0.7824 -0.4294] [ 0.5825 -0.7883 -0.4329] [ 0.5743 -0.7865 -0.437 ]\n",
      " [ 0.5784 -0.7885 -0.4511] [ 0.5964 -0.804  -0.4012] [ 0.5847 -0.8337 -0.3857]\n",
      " [ 0.6098 -0.7196 -0.4234] [ 0.5608 -0.7659 -0.4437] [ 0.5408 -0.7821 -0.469 ]\n",
      " [ 0.5961 -0.7753 -0.4434] [ 0.5949 -0.7766 -0.444 ] [ 0.5803 -0.6524 -0.4889]\n",
      " [ 0.6415 -0.6398 -0.4474] [ 0.6805 -0.6312 -0.4296] [ 0.6716 -0.6467 -0.4476]\n",
      " [ 0.6365 -0.6647 -0.4895] [ 0.6366 -0.6647 -0.4895] [ 0.6323 -0.6714 -0.4936]\n",
      " [ 0.6313 -0.6751 -0.4924] [ 0.5866 -0.714  -0.5212] [ 0.5459 -0.7501 -0.5401]\n",
      " [ 0.4971 -0.7829 -0.5667] [ 0.5083 -0.7735 -0.592 ] [ 0.5265 -0.7841 -0.5789]\n",
      " [ 0.5209 -0.7906 -0.5917] [ 0.5074 -0.8383 -0.545 ] [ 0.4978 -0.8797 -0.5072]\n",
      " [ 0.5939 -0.8548 -0.4583] [ 0.5846 -0.8654 -0.4692] [ 0.5546 -0.8896 -0.4838]\n",
      " [ 0.5142 -0.8584 -0.5091] [ 0.5079 -0.8555 -0.5423] [ 0.4907 -0.8594 -0.5737]\n",
      " [ 0.4969 -0.844  -0.5797] [ 0.4822 -0.8546 -0.5956] [ 0.5062 -0.8725 -0.5713]\n",
      " [ 0.5599 -0.8048 -0.5407] [ 0.5844 -0.8228 -0.5109] [ 0.5812 -0.8114 -0.5177]\n",
      " [ 0.5889 -0.8033 -0.514 ] [ 0.6342 -0.8053 -0.4803] [ 0.631  -0.8091 -0.4826]\n",
      " [ 0.6172 -0.8061 -0.4895] [ 0.6203 -0.8076 -0.5002] [ 0.6388 -0.8235 -0.449 ]\n",
      " [ 0.6255 -0.8573 -0.4313] [ 0.6505 -0.7433 -0.4689] [ 0.6017 -0.7895 -0.4892]\n",
      " [ 0.5829 -0.8048 -0.5131] [ 0.6338 -0.7985 -0.4895] [ 0.6349 -0.7973 -0.4889]\n",
      " [ 0.6199 -0.6695 -0.5351] [ 0.6806 -0.6571 -0.494 ] [ 0.7163 -0.6492 -0.4776]\n",
      " [ 0.7085 -0.6628 -0.4934] [ 0.6743 -0.6802 -0.5342] [ 0.672  -0.6794 -0.5356]\n",
      " [ 0.6695 -0.6833 -0.538 ] [ 0.6666 -0.6933 -0.5347] [ 0.6228 -0.7313 -0.5629]\n",
      " [ 0.5818 -0.7677 -0.582 ] [ 0.5328 -0.8007 -0.6087] [ 0.5429 -0.7922 -0.6315]\n",
      " [ 0.5595 -0.8019 -0.6195] [ 0.5546 -0.8075 -0.6305] [ 0.5407 -0.8568 -0.5823]\n",
      " [ 0.5307 -0.8997 -0.5432] [ 0.625  -0.8752 -0.4952] [ 0.617  -0.8843 -0.5047]\n",
      " [ 0.5871 -0.9085 -0.5192] [ 0.5434 -0.8748 -0.5465] [ 0.5375 -0.872  -0.5782]\n",
      " [ 0.5209 -0.8758 -0.6085] [ 0.5258 -0.8634 -0.6134] [ 0.512  -0.8733 -0.6282]\n",
      " [ 0.5356 -0.8909 -0.6045] [ 0.5912 -0.8207 -0.5727] [ 0.6155 -0.8385 -0.5431]\n",
      " [ 0.6121 -0.8264 -0.5504] [ 0.62   -0.8181 -0.5465] [ 0.6646 -0.8201 -0.5134]\n",
      " [ 0.6625 -0.8227 -0.5149] [ 0.6451 -0.8188 -0.5236] [ 0.6475 -0.82   -0.5322]\n",
      " [ 0.6664 -0.8362 -0.48  ] [ 0.652  -0.8726 -0.461 ] [ 0.677  -0.7588 -0.4985]\n",
      " [ 0.6283 -0.8048 -0.5187] [ 0.6102 -0.8196 -0.5417] [ 0.6583 -0.8136 -0.5194]\n",
      " [ 0.6608 -0.8107 -0.5181] [ 0.6456 -0.6807 -0.5651] [ 0.7059 -0.6683 -0.5242]\n",
      " [ 0.7395 -0.6609 -0.5089] [ 0.7325 -0.6732 -0.5231] [ 0.6989 -0.6904 -0.5632]\n",
      " [ 0.695  -0.6889 -0.5655] [ 0.6936 -0.6911 -0.5669] [ 0.6895 -0.7051 -0.5623]\n",
      " [ 0.6464 -0.7426 -0.5901] [ 0.6051 -0.7792 -0.6092] [ 0.5561 -0.8123 -0.636 ]\n",
      " [ 0.5654 -0.8044 -0.6571] [ 0.5809 -0.8135 -0.6459] [ 0.5765 -0.8185 -0.6558]\n",
      " [ 0.5623 -0.8688 -0.6066] [ 0.5521 -0.9126 -0.5666] [ 0.6452 -0.8884 -0.5192]\n",
      " [ 0.638  -0.8966 -0.5277] [ 0.6082 -0.9208 -0.5423] [ 0.5624 -0.8855 -0.5708]\n",
      " [ 0.5566 -0.8828 -0.6015] [ 0.5405 -0.8865 -0.6311] [ 0.5446 -0.876  -0.6352]\n",
      " [ 0.5314 -0.8855 -0.6494] [ 0.5546 -0.9028 -0.626 ] [ 0.6115 -0.831  -0.5935]\n",
      " [ 0.6357 -0.8488 -0.5641] [ 0.6322 -0.8362 -0.5716] [ 0.6402 -0.8278 -0.5677]\n",
      " [ 0.6844 -0.8297 -0.5349] [ 0.683  -0.8314 -0.5359] [ 0.6631 -0.827  -0.5458]\n",
      " [ 0.6652 -0.8281 -0.5529] [ 0.6843 -0.8444 -0.5001] [ 0.6693 -0.8826 -0.4803]\n",
      " [ 0.6942 -0.7688 -0.5178] [ 0.6456 -0.8148 -0.5379] [ 0.6279 -0.8292 -0.5603]\n",
      " [ 0.6742 -0.8234 -0.5389] [ 0.6777 -0.8194 -0.5371] [ 0.6623 -0.6879 -0.5846]\n",
      " [ 0.7224 -0.6756 -0.5439] [ 0.7546 -0.6685 -0.5292] [ 0.748  -0.68   -0.5424]\n",
      " [ 0.7148 -0.6969 -0.5821] [ 0.71   -0.6951 -0.585 ] [ 0.7093 -0.6961 -0.5856]\n",
      " [ 0.7044 -0.7127 -0.5801] [ 0.6617 -0.7499 -0.6077] [ 0.6203 -0.7867 -0.6269]\n",
      " [ 0.5711 -0.8198 -0.6538] [ 0.58   -0.8123 -0.6738] [ 0.5948 -0.821  -0.6631]\n",
      " [ 0.5908 -0.8256 -0.6722] [ 0.5764 -0.8767 -0.6223] [ 0.566  -0.921  -0.5818]\n",
      " [ 0.6584 -0.897  -0.5348] [ 0.6517 -0.9046 -0.5426] [ 0.6219 -0.9287 -0.5572]\n",
      " [ 0.5748 -0.8924 -0.5866] [ 0.5691 -0.8898 -0.6166] [ 0.5532 -0.8934 -0.6458]\n",
      " [ 0.5569 -0.8842 -0.6494] [ 0.544  -0.8935 -0.6632] [ 0.567  -0.9106 -0.64  ]\n",
      " [ 0.6247 -0.8378 -0.6071] [ 0.6489 -0.8555 -0.5777] [ 0.6453 -0.8426 -0.5854]\n",
      " [ 0.6534 -0.8341 -0.5814] [ 0.6973 -0.836  -0.5488] [ 0.6963 -0.8371 -0.5495]\n",
      " [ 0.6749 -0.8324 -0.5602] [ 0.6767 -0.8333 -0.5664] [ 0.6959 -0.8498 -0.5132]\n",
      " [ 0.6805 -0.889  -0.4928] [ 0.7054 -0.7753 -0.5303] [ 0.6568 -0.8213 -0.5504]\n",
      " [ 0.6395 -0.8354 -0.5724] [ 0.6845 -0.8298 -0.5515] [ 0.6887 -0.8251 -0.5494]\n",
      " [ 0.6731 -0.6927 -0.5973] [ 0.7331 -0.6804 -0.5566] [ 0.7644 -0.6734 -0.5423]\n",
      " [ 0.7581 -0.6844 -0.555 ] [ 0.7252 -0.7012 -0.5943] [ 0.7197 -0.6991 -0.5976]\n",
      " [ 0.7195 -0.6994 -0.5978] [ 0.7141 -0.7177 -0.5918] [ 0.6716 -0.7547 -0.6191]\n",
      " [ 0.6301 -0.7915 -0.6384] [ 0.5809 -0.8247 -0.6653] [ 0.5895 -0.8175 -0.6846]\n",
      " [ 0.6038 -0.8259 -0.6742] [ 0.6    -0.8302 -0.6829] [ 0.5855 -0.8817 -0.6326]\n",
      " [ 0.5751 -0.9265 -0.5917] [ 0.6669 -0.9026 -0.545 ] [ 0.6606 -0.9098 -0.5524]\n",
      " [ 0.6308 -0.9339 -0.5669] [ 0.5828 -0.8969 -0.5969] [ 0.5772 -0.8943 -0.6265]\n",
      " [ 0.5615 -0.8979 -0.6554] [ 0.5648 -0.8896 -0.6586] [ 0.5522 -0.8986 -0.6721]\n",
      " [ 0.575  -0.9156 -0.6491] [ 0.6333 -0.8421 -0.6159] [ 0.6574 -0.8598 -0.5865]\n",
      " [ 0.6538 -0.8467 -0.5943] [ 0.6619 -0.8381 -0.5903] [ 0.7056 -0.8401 -0.5579]\n",
      " [ 0.705  -0.8409 -0.5584] [ 0.6825 -0.8359 -0.5696] [ 0.6842 -0.8367 -0.5752]\n",
      " [ 0.7035 -0.8533 -0.5217] [ 0.6877 -0.8932 -0.5009] [ 0.7126 -0.7796 -0.5384]\n",
      " [ 0.6641 -0.8255 -0.5585] [ 0.647  -0.8394 -0.5803] [ 0.6912 -0.8339 -0.5597]\n",
      " [ 0.6958 -0.8288 -0.5574] [ 0.6802 -0.6957 -0.6055] [ 0.7401 -0.6835 -0.5649]\n",
      " [ 0.7707 -0.6766 -0.5509] [ 0.7647 -0.6872 -0.5631] [ 0.7319 -0.704  -0.6023]\n",
      " [ 0.726  -0.7017 -0.6058] [ 0.7261 -0.7015 -0.6057] [ 0.7204 -0.721  -0.5993]\n",
      " [ 0.6781 -0.7578 -0.6266] [ 0.6365 -0.7947 -0.6458] [ 0.5873 -0.8279 -0.6728]\n",
      " [ 0.5957 -0.8208 -0.6916] [ 0.6097 -0.829  -0.6814] [ 0.606  -0.8333 -0.6898]\n",
      " [ 0.5914 -0.885  -0.6392] [ 0.581  -0.93   -0.5981] [ 0.6724 -0.9062 -0.5516]\n",
      " [ 0.6664 -0.9131 -0.5587] [ 0.6366 -0.9373 -0.5732] [ 0.588  -0.8999 -0.6035]\n",
      " [ 0.5825 -0.8972 -0.6329] [ 0.5668 -0.9008 -0.6616] [ 0.5699 -0.893  -0.6646]\n",
      " [ 0.5575 -0.902  -0.678 ] [ 0.5802 -0.9189 -0.655 ] [ 0.6388 -0.8449 -0.6216]\n",
      " [ 0.663  -0.8626 -0.5922] [ 0.6593 -0.8494 -0.6001] [ 0.6675 -0.8408 -0.5961]\n",
      " [ 0.711  -0.8427 -0.5638] [ 0.7106 -0.8433 -0.5641] [ 0.6875 -0.8381 -0.5757]\n",
      " [ 0.689  -0.8389 -0.5808] [ 0.7084 -0.8555 -0.5273] [ 0.6924 -0.896  -0.5062]\n",
      " [ 0.7174 -0.7823 -0.5437] [ 0.6688 -0.8282 -0.5638] [ 0.6518 -0.8421 -0.5854]\n",
      " [ 0.6956 -0.8366 -0.5651] [ 0.7004 -0.8312 -0.5626] [ 0.6848 -0.6977 -0.6108]\n",
      " [ 0.7446 -0.6855 -0.5703] [ 0.7749 -0.6787 -0.5565] [ 0.769  -0.6891 -0.5684]\n",
      " [ 0.7363 -0.7058 -0.6075] [ 0.7301 -0.7034 -0.6112] [ 0.7304 -0.7029 -0.6109]\n",
      " [ 0.7245 -0.7231 -0.6042] [ 0.6823 -0.7598 -0.6314] [ 0.6407 -0.7967 -0.6507]\n",
      " [ 0.5914 -0.8299 -0.6776] [ 0.5997 -0.823  -0.6962] [ 0.6135 -0.8311 -0.6861]\n",
      " [ 0.6099 -0.8352 -0.6943] [ 0.5953 -0.8872 -0.6435] [ 0.5848 -0.9323 -0.6023]\n",
      " [ 0.676  -0.9086 -0.5558] [ 0.6701 -0.9153 -0.5628] [ 0.6404 -0.9395 -0.5773]\n",
      " [ 0.5914 -0.9018 -0.6079] [ 0.5859 -0.8992 -0.637 ] [ 0.5703 -0.9027 -0.6656]\n",
      " [ 0.5733 -0.8953 -0.6685] [ 0.561  -0.9041 -0.6817] [ 0.5836 -0.921  -0.6589]\n",
      " [ 0.6425 -0.8468 -0.6253] [ 0.6666 -0.8644 -0.596 ] [ 0.6629 -0.8511 -0.6039]\n",
      " [ 0.6711 -0.8425 -0.5999] [ 0.7146 -0.8444 -0.5676] [ 0.7142 -0.8448 -0.5679]\n",
      " [ 0.6907 -0.8396 -0.5796] [ 0.6922 -0.8403 -0.5845] [ 0.7116 -0.857  -0.5309]\n",
      " [ 0.6955 -0.8977 -0.5096] [ 0.7204 -0.7841 -0.5471] [ 0.6719 -0.83   -0.5672]\n",
      " [ 0.655  -0.8438 -0.5887] [ 0.6984 -0.8384 -0.5685] [ 0.7034 -0.8327 -0.566 ]\n",
      " [ 0.6878 -0.699  -0.6143] [ 0.7476 -0.6868 -0.5738] [ 0.7776 -0.6801 -0.5601]\n",
      " [ 0.7717 -0.6903 -0.5719] [ 0.7391 -0.7069 -0.6108] [ 0.7328 -0.7045 -0.6146]\n",
      " [ 0.7332 -0.7038 -0.6142] [ 0.7272 -0.7244 -0.6074] [ 0.685  -0.7611 -0.6345]\n",
      " [ 0.6434 -0.7981 -0.6538]\n"
     ]
    }
   ],
   "source": [
    "# A coroutine that receives data and prints it\n",
    "def printer():\n",
    "    i = 0\n",
    "    line=\"\"\n",
    "    while True:\n",
    "        vec = yield\n",
    "        if vec.size == 1:\n",
    "            if i > 0:\n",
    "                # print anything that is left in the buffer\n",
    "                print(line)\n",
    "                i = 0\n",
    "                line = \"\"\n",
    "        else:\n",
    "            i = i + 1\n",
    "            line = line + \" \" + str(np.round(vec,4))\n",
    "            if i % 3 == 0:\n",
    "                print(line)\n",
    "                line = \"\"\n",
    "                i = 0\n",
    "\n",
    "printer_handler = printer()\n",
    "# start the printer\n",
    "printer_handler.send(None)\n",
    "\n",
    "# we need 3 parameters: one for x, one for y, and one for the bias term\n",
    "w = np.random.normal(0, 0.5, 3)\n",
    "# learning rate\n",
    "epsilon = 0.05\n",
    "delta = 100\n",
    "iteration = 0\n",
    "precision=0.01\n",
    "\n",
    "while delta > precision and iteration < 10:\n",
    "    iteration = iteration + 1\n",
    "    # to be consistent with the textbook, we will process one data point at a time\n",
    "    for s in data:\n",
    "        # compute the linear activation (predicted output)\n",
    "        s_with_bias = np.copy(s)\n",
    "        s_with_bias[2] = 1 # the last element is used as the bias activation\n",
    "        o_k =  w.dot(s_with_bias) # see Eq. 5.6 in O'reilly & Munakata (2000)\n",
    "        t_k = s[2]\n",
    "        # the delta rule equation in the vector form\n",
    "        delta_w = epsilon * (t_k - o_k) * s_with_bias # see Eq. 5.3\n",
    "        w = w + delta_w\n",
    "        # if the max change is tiny, we will stop learning in the while loop\n",
    "        delta=np.max(np.absolute(delta_w))\n",
    "        # print the current weights\n",
    "        printer_handler.send(w)\n",
    "\n",
    "# print the remaining values if there are any\n",
    "printer_handler.send(np.zeros([1,1]))"
   ]
  },
  {
   "cell_type": "markdown",
   "metadata": {
    "pycharm": {
     "name": "#%% md\n"
    }
   },
   "source": [
    "## The Final Decision Boundary and the Threshold\n",
    "\n",
    "Our class attribute has values -1 and 1 whereas the outputs of the linear model are between minus and plus infinity. This means that we need to introduce a threshold that will allow us to map the continuous output to the class value. A threshold of zero is a good default choice because it lies between -1 and 1. With that, all\n",
    "activations that are negative will be mapped to class -1, and all activations that are positive or zero will be mapped to class +1.\n",
    "\n",
    "Our decision boundary in 3D is $z=w[0]\\times x + w[1]\\times y + w[2]$. When the threshold is zero, this boundary in the 2D space defined by the xy-plane becomes $y = -\\frac{w[0]}{w[1]}\\times x-\\frac{w[2]}{w[1]}$. This will be the red line in the figure below."
   ]
  },
  {
   "cell_type": "code",
   "execution_count": 5,
   "metadata": {
    "pycharm": {
     "name": "#%%\n"
    }
   },
   "outputs": [
    {
     "data": {
      "text/plain": "<Figure size 432x288 with 1 Axes>",
      "image/png": "[encoded data removed]"
     },
     "metadata": {
      "needs_background": "light"
     },
     "output_type": "display_data"
    }
   ],
   "source": [
    "# plot the final line\n",
    "\n",
    "# construct the line using 100 points\n",
    "x = np.linspace(np.min(data[:,0]),np.max(data[:,0]),100)\n",
    "# this equation corresponds to our decision boundary on the xy-plane when the threshold is zero\n",
    "y = -w[0]/w[1]*x-w[2]/w[1]\n",
    "ymin = np.min(data[:,1])\n",
    "ymax = np.max(data[:,1])\n",
    "\n",
    "# plot the data and the line\n",
    "plt.ylim(ymin-0.3, ymax+0.3)\n",
    "# plot two classes separately\n",
    "plt.scatter(data1[:,0], data1[:,1], c='green', label='Class -1' )\n",
    "plt.scatter(data2[:,0], data2[:,1], c='blue', label='Class 1' )\n",
    "plt.plot(x, y, '-r', label='boundary')\n",
    "plt.legend()\n",
    "plt.show()"
   ]
  },
  {
   "cell_type": "markdown",
   "metadata": {
    "pycharm": {
     "name": "#%% md\n"
    }
   },
   "source": [
    "## Error on Training Data\n",
    "\n",
    "We will compute the number of errors on the training data."
   ]
  },
  {
   "cell_type": "code",
   "execution_count": 6,
   "metadata": {
    "pycharm": {
     "name": "#%%\n"
    }
   },
   "outputs": [
    {
     "name": "stdout",
     "output_type": "stream",
     "text": [
      "SSE on training data: 10.108519100808401\n",
      "Number of errors on training data: 2\n"
     ]
    }
   ],
   "source": [
    "# we need to add bias activations in the last column\n",
    "data_with_bias = np.copy(data)\n",
    "data_with_bias[:,2]=1\n",
    "\n",
    "# predictions are the outputs computed by the linear model\n",
    "predictions = w.dot(data_with_bias.transpose())\n",
    "\n",
    "# compute the summed squared error with respect to the linear activation; i.e., we want to see see how well the linear function approximates the values of our class attribute\n",
    "SSE = np.sum(np.square(predictions-data[:,2]))\n",
    "\n",
    "# this is the same threshold that we used to derive the red decision boundary above; with this threshold, our classification below will be consistent with the red line above\n",
    "threshold = 0\n",
    "\n",
    "# apply threshold to make discrete decisions\n",
    "predictions[predictions<threshold] = -1\n",
    "predictions[predictions>=threshold] = 1\n",
    "# print(predictions)\n",
    "# print(data[:,2])\n",
    "\n",
    "# diff will be zero when the classification is correct\n",
    "diff = predictions - data[:,2]\n",
    "# indices of data items with incorrect predictions\n",
    "erroneous = diff.nonzero()[0]\n",
    "# count the number of incorrect predictions\n",
    "accuracy = np.size(erroneous)\n",
    "\n",
    "print(\"SSE on training data: \" + str(SSE) )\n",
    "print(\"Number of errors on training data: \" + str(accuracy) )"
   ]
  },
  {
   "cell_type": "markdown",
   "metadata": {
    "collapsed": true,
    "pycharm": {
     "name": "#%% md\n"
    }
   },
   "source": [
    "## Questions\n",
    "\n",
    "You are not required to answer all the questions that are below. I would encourage you to attempt the first five. The last two questions require a certain amount of coding in Python, and they can be skipped by those who are not interested in further exploration.\n",
    "\n",
    "1. Read this notebook and analyse all sections trying to understand them and trying to see the link with the textbook and the lectures.\n",
    "\n",
    "2. The red line in Sec. _\"The Final Decision Boundary and the Threshold\"_ is the decision boundary for our classification problem, and it corresponds to the threshold of zero. How would this decision boundary change if\n",
    "the threshold was smaller or greater than zero? Note which data points have the class -1 and which +1; this can be seen in the legend in the figure. You may want to do subsequent questions first if this question is challenging for you initially.\n",
    "\n",
    "2. Add computation of the Summed Squared Error (SSE) in the \"while\" loop of the learning algorithm and print its value. Note that we are interested in the SSE between the true class value and the linear output of our neural network because this is what the delta rule optimises.\n",
    "\n",
    "3. In the current implementation, the final decision boundary (the red line above)\n",
    " is plotted after the learning process has finished. Your task is to plot the\n",
    " data and the current boundary in the \"while\" or \"for\" loop of the learning algorithm. The goal is to investigate how the decision boundary is changing during learning, and to contrast those changes with the changes in the SSE. You basically want to see the decision boundary after every application of the delta rule equation.\n",
    "\n",
    "4. If you run the simulation many times, you will notice that the SSE may be non-zero even if the number of classification errors on the training data is zero. Explain how this is possible.\n",
    "\n",
    "5. The decision boundary that is learned has the form: $z=w[0]\\times x+w[1]\\times y+w[2]$ where $z$ is the last column in our training data, and it represents the class attribute.  Similarly, $x$ and $y$ are the first and the second columns in the data array respectively. This means that strictly speaking the decision boundary is a plane located in a 3-dimensional xyz-space. Explain how this plane is placed with respect to the flat scatterplot of the data examples in their xy-plane (i.e. the graph with the red line). After trying to estimate the location of the separating hyperplane in 3D, you could construct a 3-dimensional version of the this plot to see where exactly this plane is located. An example 3D scatterplot in mathplotib is here https://matplotlib.org/3.1.1/gallery/mplot3d/scatter3d.html\n",
    "\n",
    "6. Add sigmoidal activation to this implementation. Note that assuming that we are switching the Cross-Entropy error (CE) instead of the Summed Squared Error (SSE), the update equation for the delta rule remains unchanged. The only difference is the activation function that is sigmoidal and takes the original linear activation as input. This is well explained in Sec. 5.4 in O'reilly & Munakata (2000). Since the range of the sigmoid function is the interval $[0,1]$, it would make sense to replace the class -1 with 0 in our data."
   ]
  },
  {
   "cell_type": "markdown",
   "metadata": {
    "pycharm": {
     "name": "#%% md\n"
    }
   },
   "source": [
    "## References\n",
    "\n",
    "O'reilly, Randall C., and Yuko Munakata. Computational explorations in cognitive neuroscience: Understanding the mind by simulating the brain. MIT press, 2000.\n"
   ]
  },
  {
   "cell_type": "markdown",
   "metadata": {
    "pycharm": {
     "name": "#%% md\n"
    }
   },
   "source": [
    "<small>This document was written in Pycharm Professional and compiled using Python 3.8 with standard packages available in Ubuntu 20.04.</small>\n"
   ]
  }
 ],
 "metadata": {
  "kernelspec": {
   "display_name": "PyCharm (python-delta-rule)",
   "language": "python",
   "name": "pycharm-eef80f61"
  },
  "language_info": {
   "codemirror_mode": {
    "name": "ipython",
    "version": 3
   },
   "file_extension": ".py",
   "mimetype": "text/x-python",
   "name": "python",
   "nbconvert_exporter": "python",
   "pygments_lexer": "ipython3",
   "version": "3.8.5"
  }
 },
 "nbformat": 4,
 "nbformat_minor": 1
}