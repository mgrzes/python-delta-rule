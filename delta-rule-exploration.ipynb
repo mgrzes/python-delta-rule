{
 "cells": [
  {
   "cell_type": "markdown",
   "metadata": {},
   "source": [
    "## Practical Exploration of the Delta Rule\n",
    "University of Kent\n",
    "\n",
    "CO636/836\n",
    "\n",
    "Marek Grzes\n",
    "\n",
    "Last modified 21/11/2021\n",
    "\n",
    "This exploration complements Sec. 5.3 in O'Reilly & Munakata (2000) that introduces the delta rule for the Summed Squared Error (SSE) and linear activation. We apply the delta rule to a tiny classification problem with two classes. Since we are interested in classification, the delta rule with a sigmoidal activation (i.e. logistic regression) would be more appropriate for this problem in general, but we start with the linear activation for didactic reasons. The implications of using sigmoidal activation in the delta rule are presented in Sec. 5.4 in the textbook, and we use this fact in the final questions that are at the end of this notebook.\n",
    "\n",
    "The source code of this notebook can be found here:\n",
    "<small>\n",
    "<a href=\"https://github.com/mgrzes/python-delta-rule/blob/main/delta-rule-exploration.ipynb\">https://github.com/mgrzes/python-delta-rule/blob/main/delta-rule-exploration.ipynb</a></small>"
   ]
  },
  {
   "cell_type": "markdown",
   "metadata": {
    "pycharm": {
     "name": "#%% md\n"
    }
   },
   "source": [
    "### Generate Data\n",
    "\n",
    "We generate a small dataset with two variables $x$ and $y$, and a binary class\n",
    "attribute with values $-1$ and $1$. The data is generated from two normal\n",
    "distributions in which the variables $x$ and $y$ are not uncorrelated."
   ]
  },
  {
   "cell_type": "code",
   "execution_count": 1,
   "metadata": {
    "pycharm": {
     "name": "#%%\n"
    }
   },
   "outputs": [
    {
     "data": {
      "image/png": "[encoded data removed]",
      "text/plain": [
       "<Figure size 432x288 with 1 Axes>"
      ]
     },
     "metadata": {
      "needs_background": "light"
     },
     "output_type": "display_data"
    }
   ],
   "source": [
    "import numpy as np\n",
    "import matplotlib.pyplot as plt\n",
    "\n",
    "# the number of data points per class\n",
    "num_points = 20\n",
    "\n",
    "# data points for class -1\n",
    "data1 = np.random.multivariate_normal([1,1], [[0.8, 0.6],[0.6, 0.7]], num_points)\n",
    "# data points for class 1\n",
    "data2 = np.random.multivariate_normal([1,-1], [[0.8, 0.6],[0.6, 0.7]], num_points)\n",
    "\n",
    "# plot both arrays\n",
    "# note that arrays are indexed [row, col]\n",
    "plt.scatter(data1[:,0], data1[:,1], c='green')\n",
    "plt.scatter(data2[:,0], data2[:,1], c='blue')\n",
    "plt.show()"
   ]
  },
  {
   "cell_type": "markdown",
   "metadata": {
    "pycharm": {
     "name": "#%% md\n"
    }
   },
   "source": [
    "Next, we add the class attribute in the third column, and we combine the two parts into one array."
   ]
  },
  {
   "cell_type": "code",
   "execution_count": 2,
   "metadata": {
    "pycharm": {
     "name": "#%%\n"
    }
   },
   "outputs": [
    {
     "name": "stdout",
     "output_type": "stream",
     "text": [
      "[[ 1.50110876 -0.79844548  1.        ]\n",
      " [ 0.74770503 -1.93921639  1.        ]\n",
      " [ 0.80919882  0.96893246 -1.        ]\n",
      " [ 0.40140358  0.54056617 -1.        ]\n",
      " [-0.80952675  0.44713941 -1.        ]]\n"
     ]
    }
   ],
   "source": [
    "# we create one dataset with the class attribute\n",
    "# 1) add one column with the class label\n",
    "# create the class labels for both classes\n",
    "c0 = - np.ones([num_points, 1])\n",
    "c1 = np.ones([num_points, 1])\n",
    "# Append the class labels to both datasets;\n",
    "# Note that the data points in data1 will have -1 in the third\n",
    "# column and the data points in data2 will have +1.\n",
    "data1 = np.append(data1, c0, axis=1)\n",
    "data2 = np.append(data2, c1, axis=1)\n",
    "# 2) combine the two classes in one data array\n",
    "data = np.append(data1, data2, axis=0)\n",
    "\n",
    "# we shuffle the data by rows because we want positive and negative examples to be interleaved; the delta rule algorithm below will update the weights after processing one data example, i.e. we won't use batches or mini-batches.\n",
    "np.random.shuffle(data)\n",
    "\n",
    "# print the first 5 rows to see what the data looks like\n",
    "print(data[:5])"
   ]
  },
  {
   "cell_type": "markdown",
   "metadata": {
    "pycharm": {
     "name": "#%% md\n"
    }
   },
   "source": [
    "Our dataset with two classes is now in `data`. We plot it below. The two colours correspond to the two classes, i.e., the values of the class attribute."
   ]
  },
  {
   "cell_type": "code",
   "execution_count": 3,
   "metadata": {
    "pycharm": {
     "name": "#%%\n"
    }
   },
   "outputs": [
    {
     "data": {
      "image/png": "[encoded data removed]",
      "text/plain": [
       "<Figure size 432x288 with 1 Axes>"
      ]
     },
     "metadata": {
      "needs_background": "light"
     },
     "output_type": "display_data"
    }
   ],
   "source": [
    "plt.scatter(data[:,0], data[:,1], c=data[:,2] )\n",
    "plt.show()"
   ]
  },
  {
   "cell_type": "markdown",
   "metadata": {
    "pycharm": {
     "name": "#%% md\n"
    }
   },
   "source": [
    "## Delta Rule\n",
    "\n",
    "We will use the delta rule algorithm to solve our classification problem. The variables\n",
    "$t_k$ and $o_k$ are used to be consistent with the textbook (O'Reilly & Munakata 2000).\n",
    "\n",
    "The code that is below uses the delta rule update equation:\n",
    "\n",
    "$\\Delta w_{i,k}=\\epsilon(t_k-o_k)s_i$.\n",
    "\n",
    "This equation is presented in Eq. (5.3) in O'Reilly & Munakata (2000)."
   ]
  },
  {
   "cell_type": "code",
   "execution_count": 4,
   "metadata": {
    "pycharm": {
     "name": "#%%\n"
    }
   },
   "outputs": [
    {
     "name": "stdout",
     "output_type": "stream",
     "text": [
      " [-0.0413  0.3794 -0.5504] [ 0.0453  0.1548 -0.4346] [ 0.0149  0.1183 -0.4722] [ 0.0029  0.1022 -0.5021]\n",
      " [ 0.0248  0.0901 -0.5291] [ 0.0261  0.0934 -0.5519] [-0.0688 -0.1577 -0.4602] [-0.0148 -0.2514 -0.3958]\n",
      " [ 0.0213 -0.3261 -0.3434] [ 0.0308 -0.3308 -0.3733] [ 3.000e-04 -3.450e-01 -3.965e-01] [-0.0139 -0.4054 -0.3749]\n",
      " [ 0.0815 -0.4152 -0.3082] [ 0.0527 -0.4344 -0.3299] [ 0.0934 -0.4773 -0.3047] [ 0.0963 -0.4738 -0.3027]\n",
      " [ 0.1409 -0.5095 -0.2703] [ 0.1411 -0.5199 -0.2967] [ 0.1445 -0.5164 -0.2949] [ 0.1181 -0.5355 -0.3097]\n",
      " [ 0.046 -0.553 -0.343] [ 0.0253 -0.551  -0.3787] [ 0.0236 -0.5932 -0.3494] [ 0.083  -0.5241 -0.3182]\n",
      " [ 0.0768 -0.5332 -0.3264] [ 0.0981 -0.5654 -0.2806] [ 0.1663 -0.5807 -0.2326] [ 0.179  -0.604  -0.2147]\n",
      " [ 0.14   -0.6283 -0.2328] [ 0.1442 -0.657  -0.2064] [ 0.159  -0.6753 -0.1903] [ 0.1592 -0.6831 -0.2227]\n",
      " [ 0.2236 -0.6178 -0.1963] [ 0.2213 -0.6438 -0.1773] [ 0.2212 -0.6615 -0.1651] [ 0.227  -0.6663 -0.161 ]\n",
      " [ 0.2059 -0.6834 -0.1925] [ 0.2738 -0.6889 -0.1625] [ 0.2883 -0.7026 -0.1467] [ 0.2605 -0.5883 -0.2378]\n",
      " [ 0.2888 -0.6034 -0.219 ] [ 0.2825 -0.5872 -0.2273] [ 0.265  -0.6081 -0.2489] [ 0.2544 -0.6224 -0.2754]\n",
      " [ 0.2642 -0.6278 -0.2874] [ 0.2665 -0.6219 -0.3269] [ 0.2717 -0.6082 -0.3319] [ 0.2809 -0.6242 -0.3209]\n",
      " [ 0.2891 -0.6412 -0.309 ] [ 0.297  -0.6451 -0.3339] [ 0.2536 -0.6653 -0.367 ] [ 0.2644 -0.6196 -0.3833]\n",
      " [ 0.3297 -0.6264 -0.3376] [ 0.2933 -0.6506 -0.365 ] [ 0.2754 -0.6318 -0.376 ] [ 0.2846 -0.6203 -0.3697]\n",
      " [ 0.305  -0.6366 -0.3549] [ 0.3051 -0.6443 -0.3745] [ 0.3095 -0.6398 -0.3722] [ 0.278  -0.6626 -0.3899]\n",
      " [ 0.1841 -0.6854 -0.4331] [ 0.1636 -0.6833 -0.4688] [ 0.1621 -0.719  -0.444 ] [ 0.232  -0.6377 -0.4074]\n",
      " [ 0.2296 -0.6411 -0.4105] [ 0.2495 -0.6711 -0.3678] [ 0.3062 -0.6838 -0.3279] [ 0.314  -0.6981 -0.317 ]\n",
      " [ 0.2681 -0.7266 -0.3382] [ 0.2722 -0.7541 -0.3129] [ 0.2814 -0.7654 -0.3029] [ 0.2815 -0.7716 -0.3286]\n",
      " [ 0.3491 -0.7031 -0.3009] [ 0.3467 -0.7294 -0.2817] [ 0.3466 -0.7457 -0.2704] [ 0.3404 -0.7406 -0.2748]\n",
      " [ 0.322  -0.7555 -0.3024] [ 0.371  -0.7595 -0.2808] [ 0.384  -0.7718 -0.2666] [ 0.3563 -0.6578 -0.3575]\n",
      " [ 0.3786 -0.6697 -0.3426] [ 0.3697 -0.6465 -0.3546] [ 0.3568 -0.6619 -0.3705] [ 0.3485 -0.6731 -0.3912]\n",
      " [ 0.3495 -0.6737 -0.3925] [ 0.3515 -0.6686 -0.4268] [ 0.3536 -0.6632 -0.4288] [ 0.3606 -0.6754 -0.4204]\n",
      " [ 0.3678 -0.6903 -0.41  ] [ 0.3736 -0.6932 -0.4282] [ 0.3318 -0.7127 -0.4601] [ 0.3421 -0.6687 -0.4758]\n",
      " [ 0.4056 -0.6752 -0.4314] [ 0.3716 -0.6978 -0.457 ] [ 0.3444 -0.6692 -0.4738] [ 0.3583 -0.6518 -0.4642]\n",
      " [ 0.3758 -0.6658 -0.4515] [ 0.3759 -0.6714 -0.4657] [ 0.3813 -0.6658 -0.4628] [ 0.3495 -0.6889 -0.4807]\n",
      " [ 0.2502 -0.713  -0.5265] [ 0.2311 -0.7111 -0.5594] [ 0.2295 -0.7506 -0.5319] [ 0.3022 -0.6661 -0.4939]\n",
      " [ 0.3023 -0.6659 -0.4937] [ 0.3229 -0.697  -0.4495] [ 0.3774 -0.7093 -0.4111] [ 0.3852 -0.7235 -0.4002]\n",
      " [ 0.3354 -0.7544 -0.4232] [ 0.3398 -0.7843 -0.3957] [ 0.3483 -0.7949 -0.3865] [ 0.3484 -0.7999 -0.4076]\n",
      " [ 0.4143 -0.7332 -0.3807] [ 0.4116 -0.7627 -0.3591] [ 0.4115 -0.7812 -0.3464] [ 0.4012 -0.7727 -0.3536]\n",
      " [ 0.3846 -0.7862 -0.3784] [ 0.4256 -0.7895 -0.3603] [ 0.4387 -0.802  -0.3459] [ 0.4114 -0.6895 -0.4356]\n",
      " [ 0.4314 -0.7002 -0.4222] [ 0.4218 -0.6752 -0.4352] [ 0.4116 -0.6874 -0.4478] [ 0.4047 -0.6967 -0.465 ]\n",
      " [ 0.4004 -0.6944 -0.4598] [ 0.4023 -0.6898 -0.4908] [ 0.4013 -0.6924 -0.4899] [ 0.4074 -0.703  -0.4825]\n",
      " [ 0.4143 -0.7173 -0.4725] [ 0.4188 -0.7195 -0.4867] [ 0.378  -0.7385 -0.5178] [ 0.3878 -0.6968 -0.5328]\n",
      " [ 0.4504 -0.7032 -0.489 ] [ 0.4179 -0.7248 -0.5134] [ 0.3854 -0.6907 -0.5334] [ 0.4022 -0.6697 -0.522 ]\n",
      " [ 0.4182 -0.6825 -0.5104] [ 0.4182 -0.6868 -0.5213] [ 0.4242 -0.6806 -0.5181] [ 0.3922 -0.7038 -0.5361]\n",
      " [ 0.2897 -0.7287 -0.5833] [ 0.2716 -0.7269 -0.6146] [ 0.2699 -0.769  -0.5854] [ 0.3442 -0.6825 -0.5465]\n",
      " [ 0.3458 -0.6801 -0.5443] [ 0.3669 -0.712  -0.4991] [ 0.4201 -0.724  -0.4616] [ 0.4279 -0.7383 -0.4506]\n",
      " [ 0.3758 -0.7707 -0.4748] [ 0.3804 -0.802  -0.4459] [ 0.3886 -0.8122 -0.437 ] [ 0.3886 -0.8165 -0.4554]\n",
      " [ 0.4533 -0.751  -0.429 ] [ 0.4505 -0.7825 -0.4059] [ 0.4503 -0.8023 -0.3923] [ 0.4377 -0.7919 -0.4012]\n",
      " [ 0.4222 -0.8044 -0.4244] [ 0.4584 -0.8074 -0.4084] [ 0.4716 -0.8199 -0.3939] [ 0.4445 -0.7084 -0.4828]\n",
      " [ 0.4633 -0.7184 -0.4703] [ 0.4532 -0.6923 -0.4838] [ 0.4446 -0.7026 -0.4944] [ 0.4385 -0.7108 -0.5096]\n",
      " [ 0.4311 -0.7067 -0.5005] [ 0.4328 -0.7025 -0.5294] [ 0.43   -0.7099 -0.5267] [ 0.4356 -0.7196 -0.52  ]\n",
      " [ 0.4423 -0.7335 -0.5103] [ 0.446  -0.7353 -0.522 ] [ 0.4058 -0.7541 -0.5526] [ 0.4153 -0.7136 -0.5671]\n",
      " [ 0.4774 -0.72   -0.5237] [ 0.4457 -0.741  -0.5474] [ 0.4102 -0.7036 -0.5694] [ 0.4286 -0.6805 -0.5568]\n",
      " [ 0.4437 -0.6925 -0.5458] [ 0.4437 -0.6961 -0.5548] [ 0.4501 -0.6895 -0.5514] [ 0.4179 -0.7128 -0.5695]\n",
      " [ 0.3135 -0.7382 -0.6176] [ 0.296  -0.7364 -0.6479] [ 0.2942 -0.78   -0.6176] [ 0.3695 -0.6924 -0.5781]\n",
      " [ 0.372  -0.6887 -0.5749] [ 0.3933 -0.721  -0.529 ] [ 0.4459 -0.7328 -0.492 ] [ 0.4537 -0.7472 -0.4811]\n",
      " [ 0.4001 -0.7805 -0.5059] [ 0.4049 -0.8127 -0.4761] [ 0.4128 -0.8226 -0.4675] [ 0.4129 -0.8266 -0.4842]\n",
      " [ 0.4769 -0.7618 -0.4581] [ 0.4739 -0.7944 -0.4341] [ 0.4738 -0.815  -0.42  ] [ 0.4597 -0.8034 -0.4299]\n",
      " [ 0.4449 -0.8154 -0.452 ] [ 0.4781 -0.8181 -0.4374] [ 0.4915 -0.8308 -0.4228] [ 0.4645 -0.7198 -0.5112]\n",
      " [ 0.4824 -0.7294 -0.4993] [ 0.4721 -0.7026 -0.5131] [ 0.4645 -0.7118 -0.5225] [ 0.4589 -0.7193 -0.5364]\n",
      " [ 0.4496 -0.7142 -0.5249] [ 0.4512 -0.7101 -0.5527] [ 0.4473 -0.7204 -0.5489] [ 0.4526 -0.7296 -0.5426]\n",
      " [ 0.4592 -0.7432 -0.533 ] [ 0.4624 -0.7448 -0.5432] [ 0.4225 -0.7634 -0.5736] [ 0.4319 -0.7238 -0.5878]\n",
      " [ 0.4936 -0.7302 -0.5446] [ 0.4625 -0.7508 -0.5679] [ 0.4251 -0.7113 -0.5911] [ 0.4446 -0.687  -0.5777]\n",
      " [ 0.4591 -0.6986 -0.5672] [ 0.4591 -0.7016 -0.5749] [ 0.4656 -0.6949 -0.5715] [ 0.4334 -0.7182 -0.5896]\n",
      " [ 0.3278 -0.7439 -0.6382] [ 0.3107 -0.7422 -0.6679] [ 0.3089 -0.7866 -0.637 ] [ 0.3848 -0.6983 -0.5972]\n",
      " [ 0.3878 -0.6939 -0.5933] [ 0.4093 -0.7264 -0.547 ] [ 0.4614 -0.7382 -0.5104] [ 0.4692 -0.7525 -0.4994]\n",
      " [ 0.4147 -0.7863 -0.5246] [ 0.4196 -0.8191 -0.4944] [ 0.4274 -0.8289 -0.4859] [ 0.4275 -0.8326 -0.5016]\n",
      " [ 0.4911 -0.7682 -0.4756] [ 0.488  -0.8016 -0.4511] [ 0.4879 -0.8227 -0.4366] [ 0.4729 -0.8104 -0.4472]\n",
      " [ 0.4585 -0.822  -0.4687] [ 0.49   -0.8246 -0.4548] [ 0.5034 -0.8373 -0.4402] [ 0.4765 -0.7267 -0.5283]\n",
      " [ 0.494  -0.736  -0.5167] [ 0.4835 -0.7089 -0.5307] [ 0.4765 -0.7173 -0.5394] [ 0.4712 -0.7244 -0.5526]\n",
      " [ 0.4607 -0.7187 -0.5397] [ 0.4623 -0.7147 -0.5667] [ 0.4577 -0.7268 -0.5622] [ 0.4628 -0.7356 -0.5562]\n",
      " [ 0.4693 -0.7491 -0.5467] [ 0.4723 -0.7506 -0.556 ] [ 0.4326 -0.7691 -0.5862] [ 0.4418 -0.7299 -0.6002]\n",
      " [ 0.5034 -0.7363 -0.5572] [ 0.4727 -0.7567 -0.5803] [ 0.434  -0.716  -0.6041] [ 0.4542 -0.6909 -0.5904]\n",
      " [ 0.4683 -0.7022 -0.5801] [ 0.4684 -0.705  -0.5871] [ 0.475  -0.6982 -0.5835] [ 0.4427 -0.7215 -0.6017]\n",
      " [ 0.3364 -0.7473 -0.6506] [ 0.3195 -0.7456 -0.68  ] [ 0.3177 -0.7906 -0.6487] [ 0.3939 -0.7019 -0.6087]\n",
      " [ 0.3973 -0.697  -0.6043] [ 0.4189 -0.7297 -0.5579] [ 0.4707 -0.7414 -0.5214] [ 0.4785 -0.7557 -0.5104]\n",
      " [ 0.4235 -0.7899 -0.5359] [ 0.4285 -0.823  -0.5053] [ 0.4362 -0.8326 -0.4969] [ 0.4363 -0.8362 -0.512 ]\n",
      " [ 0.4996 -0.7721 -0.4862] [ 0.4965 -0.8059 -0.4614] [ 0.4964 -0.8273 -0.4467] [ 0.4809 -0.8146 -0.4576]\n",
      " [ 0.4668 -0.826  -0.4788] [ 0.4972 -0.8285 -0.4653] [ 0.5106 -0.8412 -0.4507] [ 0.4837 -0.7309 -0.5387]\n",
      " [ 0.5009 -0.74   -0.5272] [ 0.4904 -0.7126 -0.5413] [ 0.4837 -0.7206 -0.5496] [ 0.4786 -0.7275 -0.5623]\n",
      " [ 0.4674 -0.7214 -0.5486] [ 0.469  -0.7174 -0.5751] [ 0.464  -0.7306 -0.5703] [ 0.469  -0.7393 -0.5643]\n",
      " [ 0.4755 -0.7526 -0.555 ] [ 0.4783 -0.754  -0.5637] [ 0.4387 -0.7725 -0.5939] [ 0.4479 -0.7336 -0.6077]\n",
      " [ 0.5093 -0.74   -0.5648] [ 0.4787 -0.7602 -0.5877] [ 0.4394 -0.7188 -0.612 ] [ 0.4599 -0.6933 -0.598 ]\n",
      " [ 0.4739 -0.7044 -0.5878] [ 0.4739 -0.707  -0.5944] [ 0.4806 -0.7001 -0.5908] [ 0.4484 -0.7235 -0.609 ]\n",
      " [ 0.3417 -0.7494 -0.6581] [ 0.3248 -0.7477 -0.6872] [ 0.323  -0.7931 -0.6557] [ 0.3995 -0.7041 -0.6157]\n",
      " [ 0.403  -0.6989 -0.611 ] [ 0.4247 -0.7317 -0.5644] [ 0.4763 -0.7433 -0.5281] [ 0.4842 -0.7577 -0.5171]\n",
      " [ 0.4289 -0.792  -0.5427] [ 0.4338 -0.8253 -0.5119] [ 0.4415 -0.8349 -0.5036] [ 0.4416 -0.8384 -0.5183]\n",
      " [ 0.5047 -0.7745 -0.4925] [ 0.5016 -0.8085 -0.4676] [ 0.5015 -0.8301 -0.4527] [ 0.4857 -0.8171 -0.4639]\n",
      " [ 0.4717 -0.8284 -0.4848] [ 0.5015 -0.8308 -0.4717] [ 0.5149 -0.8436 -0.457 ] [ 0.4881 -0.7333 -0.5449]\n",
      " [ 0.5051 -0.7424 -0.5335] [ 0.4945 -0.7149 -0.5477] [ 0.488  -0.7226 -0.5557] [ 0.483  -0.7294 -0.5682]\n",
      " [ 0.4715 -0.723  -0.5539] [ 0.473  -0.7191 -0.5802] [ 0.4678 -0.7329 -0.5751] [ 0.4727 -0.7414 -0.5693]\n",
      " [ 0.4792 -0.7548 -0.5599] [ 0.4818 -0.7561 -0.5684] [ 0.4424 -0.7745 -0.5984] [ 0.4515 -0.7359 -0.6123]\n",
      " [ 0.5128 -0.7422 -0.5693] [ 0.4824 -0.7624 -0.5922] [ 0.4427 -0.7205 -0.6167] [ 0.4634 -0.6947 -0.6025]\n",
      " [ 0.4772 -0.7058 -0.5925] [ 0.4773 -0.7082 -0.5988] [ 0.4841 -0.7013 -0.5952] [ 0.4518 -0.7246 -0.6134]\n",
      " [ 0.3448 -0.7506 -0.6626] [ 0.328  -0.749  -0.6916] [ 0.3262 -0.7945 -0.66  ] [ 0.4028 -0.7054 -0.6198]\n",
      " [ 0.4065 -0.7    -0.615 ] [ 0.4282 -0.7329 -0.5684] [ 0.4797 -0.7445 -0.5321] [ 0.4876 -0.7588 -0.5211]\n",
      " [ 0.4321 -0.7933 -0.5468] [ 0.437  -0.8268 -0.5159] [ 0.4447 -0.8363 -0.5076] [ 0.4448 -0.8398 -0.5221]\n",
      " [ 0.5078 -0.7759 -0.4964] [ 0.5047 -0.8101 -0.4713] [ 0.5046 -0.8317 -0.4564] [ 0.4886 -0.8186 -0.4677]\n",
      " [ 0.4747 -0.8299 -0.4885] [ 0.5041 -0.8323 -0.4755] [ 0.5175 -0.845  -0.4608] [ 0.4907 -0.7349 -0.5486]\n",
      " [ 0.5076 -0.7438 -0.5374] [ 0.497  -0.7162 -0.5516] [ 0.4907 -0.7238 -0.5594] [ 0.4857 -0.7305 -0.5717]\n",
      " [ 0.4739 -0.724  -0.5572] [ 0.4755 -0.7201 -0.5832] [ 0.4701 -0.7343 -0.5781] [ 0.4749 -0.7428 -0.5723]\n",
      " [ 0.4814 -0.756  -0.5629] [ 0.484  -0.7573 -0.5712] [ 0.4446 -0.7757 -0.6012] [ 0.4537 -0.7372 -0.615 ]\n",
      " [ 0.515  -0.7435 -0.5721] [ 0.4846 -0.7637 -0.5949] [ 0.4447 -0.7216 -0.6196] [ 0.4655 -0.6956 -0.6053]\n",
      " [ 0.4793 -0.7066 -0.5953] [ 0.4793 -0.709  -0.6015] [ 0.4861 -0.702  -0.5979] [ 0.4538 -0.7254 -0.616 ]\n",
      " [ 0.3467 -0.7514 -0.6653] [ 0.33   -0.7497 -0.6943] [ 0.3281 -0.7954 -0.6625] [ 0.4048 -0.7062 -0.6224]\n",
      " [ 0.4085 -0.7007 -0.6175] [ 0.4303 -0.7336 -0.5707] [ 0.4817 -0.7452 -0.5345] [ 0.4896 -0.7596 -0.5235]\n",
      " [ 0.434  -0.7941 -0.5492] [ 0.439  -0.8276 -0.5183] [ 0.4466 -0.8371 -0.51  ] [ 0.4467 -0.8406 -0.5244]\n",
      " [ 0.5097 -0.7767 -0.4987] [ 0.5066 -0.811  -0.4735] [ 0.5064 -0.8328 -0.4586] [ 0.4903 -0.8195 -0.4699]\n",
      " [ 0.4765 -0.8307 -0.4906] [ 0.5057 -0.8331 -0.4778] [ 0.5191 -0.8459 -0.4631] [ 0.4923 -0.7358 -0.5509]\n"
     ]
    }
   ],
   "source": [
    "# A coroutine that receives data and prints it. To make the core\n",
    "# algorithm easier to read, we will start this coroutine to print\n",
    "# the intermediate results.\n",
    "def printer():\n",
    "    i = 0\n",
    "    line=\"\"\n",
    "    while True:\n",
    "        vec = yield\n",
    "        if vec.size == 1:\n",
    "            if i > 0:\n",
    "                # print anything that is left in the buffer\n",
    "                print(line)\n",
    "                i = 0\n",
    "                line = \"\"\n",
    "        else:\n",
    "            i = i + 1\n",
    "            line = line + \" \" + str(np.round(vec,4))\n",
    "            if i % 4 == 0:\n",
    "                print(line)\n",
    "                line = \"\"\n",
    "                i = 0\n",
    "\n",
    "printer_handler = printer()\n",
    "# start the printer\n",
    "printer_handler.send(None)\n",
    "\n",
    "# we need 3 parameters/weights: one for x, one for y, and one for the bias term; we initialise them randomly\n",
    "w = np.random.normal(0, 0.5, 3)\n",
    "# learning rate\n",
    "epsilon = 0.05\n",
    "delta = 100\n",
    "iteration = 0\n",
    "# precision is used to check if the changes are small enough and the execution can be terminated\n",
    "precision=0.01\n",
    "\n",
    "while delta > precision and iteration < 10:\n",
    "    iteration = iteration + 1\n",
    "    # to be consistent with the textbook, we will process one data point at a time\n",
    "    for s in data:\n",
    "        # compute the linear activation (predicted output)\n",
    "        s_with_bias = np.copy(s)\n",
    "        s_with_bias[2] = 1 # the last element (the class) is overwritten here to be used as the bias activation\n",
    "        o_k =  w.dot(s_with_bias) # see Eq. 5.6 in O'Reilly & Munakata (2000)\n",
    "        t_k = s[2]\n",
    "        # the delta rule equation in the vector form\n",
    "        delta_w = epsilon * (t_k - o_k) * s_with_bias # see Eq. 5.3 in O'Reilly & Munakata (2000)\n",
    "        w = w + delta_w\n",
    "        # if the max change is tiny, we will stop learning in the while loop\n",
    "        delta=np.max(np.absolute(delta_w))\n",
    "        # print the current weights\n",
    "        printer_handler.send(w)\n",
    "\n",
    "# print the remaining values if there are any\n",
    "printer_handler.send(np.zeros([1,1]))"
   ]
  },
  {
   "cell_type": "markdown",
   "metadata": {
    "pycharm": {
     "name": "#%% md\n"
    }
   },
   "source": [
    "## The Final Decision Boundary and the Threshold\n",
    "\n",
    "The class attribute in our `data` object has values -1 and 1 whereas the outputs of the linear model are between minus and plus infinity. This means that we need to introduce a threshold that will allow us to map the continuous output to the class value. A threshold of zero is a good default choice because it lies between -1 and 1. With that all the output activations that are negative will be mapped to class -1, and all the output activations that are positive or zero will be mapped to class +1.\n",
    "\n",
    "The ensuing decision boundary in 3D is $z=w[0]\\times x + w[1]\\times y + w[2]$. When the threshold is zero, this boundary in the 2D space defined by the xy-plane becomes $y = -\\frac{w[0]}{w[1]}\\times x-\\frac{w[2]}{w[1]}$. This boundary will be shown as a red line in the figure below."
   ]
  },
  {
   "cell_type": "code",
   "execution_count": 5,
   "metadata": {
    "pycharm": {
     "name": "#%%\n"
    }
   },
   "outputs": [
    {
     "data": {
      "image/png": "[encoded data removed]",
      "text/plain": [
       "<Figure size 432x288 with 1 Axes>"
      ]
     },
     "metadata": {
      "needs_background": "light"
     },
     "output_type": "display_data"
    }
   ],
   "source": [
    "# plot the final line\n",
    "\n",
    "# construct the line using 100 points\n",
    "x = np.linspace(np.min(data[:,0]),np.max(data[:,0]),100)\n",
    "# this equation corresponds to our decision boundary on the xy-plane when the threshold is zero; see the discussion above\n",
    "y = -w[0]/w[1]*x-w[2]/w[1]\n",
    "ymin = np.min(data[:,1])\n",
    "ymax = np.max(data[:,1])\n",
    "\n",
    "# plot the data and the line\n",
    "plt.ylim(ymin-0.3, ymax+0.3)\n",
    "# plot two classes separately\n",
    "plt.scatter(data1[:,0], data1[:,1], c='green', label='Class -1' )\n",
    "plt.scatter(data2[:,0], data2[:,1], c='blue', label='Class 1' )\n",
    "plt.plot(x, y, '-r', label='boundary')\n",
    "plt.legend()\n",
    "plt.show()"
   ]
  },
  {
   "cell_type": "markdown",
   "metadata": {
    "pycharm": {
     "name": "#%% md\n"
    }
   },
   "source": [
    "## Error on Training Data\n",
    "\n",
    "The delta rule algorithm executed above gave us the vector of weights $w$. This vector represents our solution, and we can call it our model.\n",
    "\n",
    "Now, we will compute the number of errors on the training data, assuming that our model is $w$. The first type of errors that we compute below are classification errors, i.e., we apply the threshold of $0$ to decide whether the class is -1 or +1. The second type of errors are the explicit differences between the predicted output and the class attribute. You will see in the questions below that having both errors we will be in a better position to gain deeper insights into the properties of delta rule."
   ]
  },
  {
   "cell_type": "code",
   "execution_count": 6,
   "metadata": {
    "pycharm": {
     "name": "#%%\n"
    }
   },
   "outputs": [
    {
     "name": "stdout",
     "output_type": "stream",
     "text": [
      "SSE on training data: 9.832118981452384\n",
      "Number of errors on training data: 2\n"
     ]
    }
   ],
   "source": [
    "# we need to add bias activations in the last column\n",
    "data_with_bias = np.copy(data)\n",
    "data_with_bias[:,2]=1\n",
    "\n",
    "# predictions are the outputs computed by the linear model\n",
    "predictions = w.dot(data_with_bias.transpose())\n",
    "\n",
    "# compute the summed squared error with respect to the linear activation; i.e., we want to see see how well the linear function approximates the values of our class attribute\n",
    "SSE = np.sum(np.square(predictions-data[:,2]))\n",
    "\n",
    "# this is the same threshold that we used to derive the red decision boundary above; with this threshold, our classification below will be consistent with the red line above\n",
    "threshold = 0\n",
    "\n",
    "# apply threshold to make discrete decisions\n",
    "predictions[predictions<threshold] = -1\n",
    "predictions[predictions>=threshold] = 1\n",
    "# print(predictions)\n",
    "# print(data[:,2])\n",
    "\n",
    "# diff will be zero when the classification is correct\n",
    "diff = predictions - data[:,2]\n",
    "# indices of data items with incorrect predictions\n",
    "erroneous = diff.nonzero()[0]\n",
    "# count the number of incorrect predictions\n",
    "accuracy = np.size(erroneous)\n",
    "\n",
    "print(\"SSE on training data: \" + str(SSE) )\n",
    "print(\"Number of errors on training data: \" + str(accuracy) )"
   ]
  },
  {
   "cell_type": "markdown",
   "metadata": {
    "collapsed": true,
    "pycharm": {
     "name": "#%% md\n"
    }
   },
   "source": [
    "## Questions\n",
    "\n",
    "You are not required to answer all the questions that are below. I would encourage you to attempt the first five. The last three questions require a certain amount of coding in Python, and they can be skipped by those who are not interested in further exploration.\n",
    "\n",
    "1. Read this notebook and analyse all sections trying to understand them and trying to see the link with the textbook and the lectures.\n",
    "\n",
    "2. The red line in Sec. _\"The Final Decision Boundary and the Threshold\"_ is the decision boundary for our classification problem, and it corresponds to the threshold of zero. How would this decision boundary change if the threshold was smaller or greater than zero? Note which data points have the class -1 and which +1; this can be seen in the legend in the figure. You may want to do subsequent questions first if this question is challenging for you initially.\n",
    "\n",
    "3. Add the computation of the Summed Squared Error (SSE) in the `while` loop of the learning algorithm and print its value. Note that we are interested in the SSE between the true class value and the linear output of our neural network because this is what our current implementation if the delta rule optimises.\n",
    "\n",
    "4. In the current implementation, the final decision boundary (the red line in the figure above) is plotted after the learning process has finished. Your task is to plot the data and the current boundary in the `while` or `for` loop of the learning algorithm. The goal is to investigate how the decision boundary is changing during learning, and to contrast those changes with the changes in the SSE that will be printed at the same time after you have implemented step 3. We want to see the decision boundary after every application of the delta rule equation; now, we can only see this boundary after the learning process has terminated.\n",
    "\n",
    "5. If you run the simulation several times, you will notice that the SSE may be non-zero even if the number of classification errors on the training data is zero or close to zero. Explain how this is possible. In your explanation, study and analyse the differences between the SSE and classification errors that are computed in this document. Even if you don't do subsequent questions, try to analyse those two errors and their relationship in detail.\n",
    "\n",
    "6. The decision boundary that is learned has the form: $z=w[0]\\times x+w[1]\\times y+w[2]$ where $z$ is the last (third) column in our training data, and it represents the class attribute.  Similarly, $x$ and $y$ are the first and the second columns in the data array respectively. This means that, strictly speaking, the decision boundary is a plane located in a 3-dimensional xyz-space. Explain how this plane is placed with respect to the flat scatterplot of the data examples in their xy-plane (i.e. the graph with the red line above). After trying to estimate the location of the separating hyperplane in 3D, you could construct a 3-dimensional version of this plot to see where exactly this plane is located. An example 3D scatterplot in mathplotib is here https://matplotlib.org/3.1.1/gallery/mplot3d/scatter3d.html\n",
    "\n",
    "7. Add the sigmoidal activation to our implementation of delta rule. Note that assuming that we are switching to the Cross-Entropy error (CE) instead of the Summed Squared Error (SSE), the update equation for the delta rule remains unchanged. The only difference is the activation function that is sigmoidal and takes the original linear activation as input. This is well explained in Sec. 5.4 in O'Reilly & Munakata (2000). Since the range of the sigmoid function is the interval $[0,1]$, it would make sense to replace the class -1 with 0 in our data. So, when you are working on this question, your classes should be 0 and 1 in the `data` object.\n",
    "\n",
    "8. When your implementation of question 7 is complete, repeat question 6 and apply its analysis and your code to the new problem with the sigmoidal activation. At this point, you will have two pretty visualisations that will show you the properties of the linear and sigmoidal activations, and their impact on the classification and SSE errors."
   ]
  },
  {
   "cell_type": "markdown",
   "metadata": {
    "pycharm": {
     "name": "#%% md\n"
    }
   },
   "source": [
    "## References\n",
    "\n",
    "O'Reilly, Randall C., and Yuko Munakata. Computational explorations in cognitive neuroscience: Understanding the mind by simulating the brain. MIT press, 2000.\n"
   ]
  },
  {
   "cell_type": "markdown",
   "metadata": {
    "pycharm": {
     "name": "#%% md\n"
    }
   },
   "source": [
    "<small>This document was written in Pycharm Professional and compiled using Python 3.8 with standard packages available in Ubuntu 20.04.</small>\n"
   ]
  }
 ],
 "metadata": {
  "kernelspec": {
   "display_name": "PyCharm (python-delta-rule)",
   "language": "python",
   "name": "pycharm-eef80f61"
  },
  "language_info": {
   "codemirror_mode": {
    "name": "ipython",
    "version": 3
   },
   "file_extension": ".py",
   "mimetype": "text/x-python",
   "name": "python",
   "nbconvert_exporter": "python",
   "pygments_lexer": "ipython3",
   "version": "3.8.10"
  }
 },
 "nbformat": 4,
 "nbformat_minor": 1
}
