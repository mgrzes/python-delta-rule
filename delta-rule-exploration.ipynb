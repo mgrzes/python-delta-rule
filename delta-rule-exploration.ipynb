{
 "cells": [
  {
   "cell_type": "markdown",
   "metadata": {},
   "source": [
    "## Practical Exploration of the Delta Rule\n",
    "University of Kent\n",
    "\n",
    "CO636/836\n",
    "\n",
    "Marek Grzes\n",
    "\n",
    "Last modified 24/10/2020\n",
    "\n",
    "This exploration complements Sec. 5.3 in O'reilly & Munakata (2000) that introduces the delta rule for the Summed Squared Error (SSE) and linear activation. We apply the delta rule to a tiny classification problem with two classes. Since we are interested in classification, the delta rule with a sigmoidal activation (i.e. logistic regression) would be more appropriate for this problem in general, but we start with the linear activation for didactic reasons. The implications of using sigmoidal activation in the delta rule are presented in Sec. 5.4 in the textbook, and we use this fact in the final questions that are at the end of this notebook.\n",
    "\n",
    "<small>\n",
    "<a href=\"https://github.com/mgrzes/python-delta-rule/blob/main/delta-rule-exploration.ipynb\">https://github.com/mgrzes/python-delta-rule/blob/main/delta-rule-exploration.ipynb</a></small>"
   ]
  },
  {
   "cell_type": "markdown",
   "metadata": {
    "pycharm": {
     "name": "#%% md\n"
    }
   },
   "source": [
    "### Generate Data\n",
    "\n",
    "We generate a small dataset with two variables $x$ and $y$, and a binary class\n",
    "attribute with values $-1$ and $1$. The data is generated from two normal\n",
    "distributions in which the variables $x$ and $y$ are not uncorrelated."
   ]
  },
  {
   "cell_type": "code",
   "execution_count": 25,
   "metadata": {
    "pycharm": {
     "name": "#%%\n"
    }
   },
   "outputs": [
    {
     "data": {
      "text/plain": "<Figure size 432x288 with 1 Axes>",
      "image/png": "[encoded data removed]"
     },
     "metadata": {
      "needs_background": "light"
     },
     "output_type": "display_data"
    }
   ],
   "source": [
    "import numpy as np\n",
    "import matplotlib.pyplot as plt\n",
    "\n",
    "# the number of data points per class\n",
    "num_points = 20\n",
    "\n",
    "# data points for class -1\n",
    "data1 = np.random.multivariate_normal([1,1], [[0.8, 0.6],[0.6, 0.7]], num_points)\n",
    "# data points for class 1\n",
    "data2 = np.random.multivariate_normal([1,-1], [[0.8, 0.6],[0.6, 0.7]], num_points)\n",
    "\n",
    "# plot both arrays\n",
    "# note that arrays are indexed [row, col]\n",
    "plt.scatter(data1[:,0], data1[:,1], c='green')\n",
    "plt.scatter(data2[:,0], data2[:,1], c='blue')\n",
    "plt.show()"
   ]
  },
  {
   "cell_type": "markdown",
   "metadata": {
    "pycharm": {
     "name": "#%% md\n"
    }
   },
   "source": [
    "Next, we add the class attribute in the third column, and we combine the two parts into one array."
   ]
  },
  {
   "cell_type": "code",
   "execution_count": 26,
   "metadata": {
    "pycharm": {
     "name": "#%%\n"
    }
   },
   "outputs": [
    {
     "name": "stdout",
     "output_type": "stream",
     "text": [
      "[[ 0.10925415 -2.03010016  1.        ]\n",
      " [ 1.13754761 -0.89747942  1.        ]\n",
      " [ 0.07645317 -1.71591329  1.        ]\n",
      " [ 0.18084127  0.62109576 -1.        ]\n",
      " [ 1.95620877  0.80956419 -1.        ]]\n"
     ]
    }
   ],
   "source": [
    "# we create one dataset with the class attribute\n",
    "# 1) add one column with the class label\n",
    "# create the class labels for both classes\n",
    "c0 = - np.ones([num_points, 1])\n",
    "c1 = np.ones([num_points, 1])\n",
    "# append the class labels to both datasets\n",
    "data1 = np.append(data1, c0, axis=1)\n",
    "data2 = np.append(data2, c1, axis=1)\n",
    "# 2) combine the two classes in one data array\n",
    "data = np.append(data1, data2, axis=0)\n",
    "\n",
    "# we shuffle the data by rows because we want positive and negative examples to be interleaved; the algorithm below will update the weights after processing one data example\n",
    "np.random.shuffle(data)\n",
    "\n",
    "# print the first 5 rows to see what the data looks like\n",
    "print(data[:5])"
   ]
  },
  {
   "cell_type": "markdown",
   "metadata": {
    "pycharm": {
     "name": "#%% md\n"
    }
   },
   "source": [
    "We plot the final dataset that contains both classes in one array."
   ]
  },
  {
   "cell_type": "code",
   "execution_count": 27,
   "metadata": {
    "pycharm": {
     "name": "#%%\n"
    }
   },
   "outputs": [
    {
     "data": {
      "text/plain": "<Figure size 432x288 with 1 Axes>",
      "image/png": "[encoded data removed]"
     },
     "metadata": {
      "needs_background": "light"
     },
     "output_type": "display_data"
    }
   ],
   "source": [
    "plt.scatter(data[:,0], data[:,1], c=data[:,2] )\n",
    "plt.show()"
   ]
  },
  {
   "cell_type": "markdown",
   "metadata": {
    "pycharm": {
     "name": "#%% md\n"
    }
   },
   "source": [
    "## Delta Rule\n",
    "\n",
    "We will use the delta rule algorithm to solve our classification problem. Variables\n",
    "$t_k$ and $o_k$ are used to be consistent with the textbook (O'reilly & Munakata 2000).\n",
    "\n",
    "The code that is below uses the delta rule update equation: $\\Delta w_{i,k}=\\epsilon(t_k-o_k)s_i$ that is presented in Eq. (5.3) in O'reilly & Munakata (2000)."
   ]
  },
  {
   "cell_type": "code",
   "execution_count": 28,
   "metadata": {
    "pycharm": {
     "name": "#%%\n"
    }
   },
   "outputs": [
    {
     "name": "stdout",
     "output_type": "stream",
     "text": [
      " [-0.3199 -0.2457  1.2491] [-0.3259 -0.241   1.2438] [-0.3284 -0.1867  1.2122] [-0.3468 -0.25    1.1103]\n",
      " [-0.467  -0.2997  1.0489] [-0.4706 -0.2895  1.0392] [-0.4597 -0.2304  1.0048] [-0.5314 -0.2987  0.946 ]\n",
      " [-0.5923 -0.3458  0.904 ] [-0.5621 -0.3195  0.9165] [-0.5638 -0.3158  0.9146] [-0.5627 -0.318   0.9157]\n",
      " [-0.4808 -0.3394  0.8025] [-0.4432 -0.3551  0.8332] [-0.4258 -0.3679  0.8506] [-0.4286 -0.3614  0.8457]\n",
      " [-0.4419 -0.279   0.8146] [-0.4014 -0.292   0.8464] [-0.4187 -0.3668  0.7739] [-0.3845 -0.3847  0.8001]\n",
      " [-0.4322 -0.4353  0.7435] [-0.4138 -0.4483  0.7625] [-0.4374 -0.4336  0.6762] [-0.3897 -0.3794  0.5712]\n",
      " [-0.4112 -0.4152  0.5531] [-0.4019 -0.4073  0.5574] [-0.3398 -0.4201  0.6018] [-0.3504 -0.4789  0.548 ]\n",
      " [-0.3529 -0.4697  0.5418] [-0.2322 -0.4551  0.6043] [-0.2821 -0.4864  0.582 ] [-0.2793 -0.4899  0.5846]\n",
      " [-0.2743 -0.4961  0.5898] [-0.3246 -0.5108  0.5272] [-0.2837 -0.3918  0.477 ] [-0.2991 -0.4167  0.4657]\n",
      " [-0.2366 -0.4478  0.3887] [-0.2675 -0.483   0.3468] [-0.1815 -0.4163  0.3755] [-0.2208 -0.4388  0.3222]\n",
      " [-0.2218 -0.4196  0.3128] [-0.1898 -0.4449  0.3409] [-0.1901 -0.4372  0.3364] [-0.1994 -0.4692  0.2849]\n",
      " [-0.2498 -0.49    0.2591] [-0.244  -0.5066  0.2749] [-0.2405 -0.4873  0.2637] [-0.2651 -0.5108  0.2435]\n",
      " [-0.2858 -0.5268  0.2292] [-0.2175 -0.4672  0.2576] [-0.2163 -0.4698  0.2589] [-0.2164 -0.4696  0.2588]\n",
      " [-0.1684 -0.4822  0.1925] [-0.1213 -0.5018  0.2309] [-0.0953 -0.521   0.2569] [-0.0923 -0.5281  0.2623]\n",
      " [-0.1057 -0.4453  0.2311] [-0.0597 -0.46    0.2672] [-0.069  -0.5002  0.2283] [-0.035  -0.518   0.2543]\n",
      " [-0.0671 -0.552   0.2163] [-0.0442 -0.5682  0.2398] [-0.0623 -0.5568  0.1735] [-0.0285 -0.5184  0.0991]\n",
      " [-0.031  -0.5227  0.0969] [-0.0391 -0.5296  0.0931] [ 0.0175 -0.5413  0.1335] [ 0.0121 -0.5711  0.1063]\n",
      " [ 0.0128 -0.5736  0.1079] [ 0.1095 -0.5619  0.158 ] [ 0.0408 -0.605   0.1273] [ 0.0408 -0.605   0.1273]\n",
      " [ 0.0466 -0.6122  0.1334] [ 0.0053 -0.6242  0.082 ] [ 0.0281 -0.558   0.0541] [ 0.0376 -0.5426  0.0611]\n",
      " [ 0.0705 -0.5589  0.0205] [ 0.0483 -0.5843 -0.0097] [ 0.0813 -0.5587  0.0014] [ 0.0509 -0.5761 -0.0399]\n",
      " [ 0.0501 -0.5624 -0.0467] [ 0.0777 -0.5841 -0.0224] [ 0.0778 -0.5853 -0.0217] [ 0.0721 -0.6049 -0.0532]\n",
      " [ 0.0136 -0.6291 -0.0831] [ 0.0212 -0.651  -0.0623] [ 0.022  -0.6466 -0.0649] [ 0.0091 -0.6588 -0.0754]\n",
      " [-0.0053 -0.6699 -0.0853] [ 0.0558 -0.6167 -0.06  ] [ 0.0473 -0.5983 -0.0695] [ 0.0363 -0.5763 -0.0801]\n",
      " [ 0.0647 -0.5838 -0.1193] [ 0.1102 -0.6027 -0.0823] [ 0.1365 -0.6222 -0.0559] [ 0.1409 -0.6326 -0.0479]\n",
      " [ 0.1261 -0.5409 -0.0825] [ 0.1708 -0.5552 -0.0475] [ 0.1657 -0.5769 -0.0685] [ 0.1956 -0.5925 -0.0457]\n",
      " [ 0.1708 -0.6189 -0.0751] [ 0.1944 -0.6355 -0.0509] [ 0.1792 -0.626  -0.1064] [ 0.205  -0.5967 -0.1632]\n",
      " [ 0.2107 -0.5871 -0.1583] [ 0.1871 -0.6073 -0.1694] [ 0.2383 -0.6179 -0.1328] [ 0.2359 -0.6309 -0.1447]\n",
      " [ 0.238  -0.6388 -0.1395] [ 0.3181 -0.6291 -0.098 ] [ 0.2364 -0.6803 -0.1346] [ 0.2337 -0.6769 -0.1371]\n",
      " [ 0.2393 -0.6838 -0.1312] [ 0.2031 -0.6944 -0.1762] [ 0.2156 -0.6582 -0.1915] [ 0.2395 -0.6194 -0.1739]\n",
      " [ 0.255  -0.6271 -0.1931] [ 0.2377 -0.6468 -0.2164] [ 0.2385 -0.6462 -0.2162] [ 0.2132 -0.6606 -0.2506]\n",
      " [ 0.2125 -0.6491 -0.2563] [ 0.2371 -0.6685 -0.2347] [ 0.2374 -0.6744 -0.2312] [ 0.2338 -0.6866 -0.2508]\n",
      " [ 0.1702 -0.713  -0.2834] [ 0.1788 -0.7377 -0.2599] [ 0.178  -0.7418 -0.2575] [ 0.172  -0.7475 -0.2624]\n",
      " [ 0.1613 -0.7558 -0.2698] [ 0.2179 -0.7064 -0.2463] [ 0.2036 -0.6751 -0.2624] [ 0.1859 -0.64   -0.2794]\n",
      " [ 0.2027 -0.6444 -0.3027] [ 0.2472 -0.6629 -0.2665] [ 0.2737 -0.6825 -0.2399] [ 0.2789 -0.6948 -0.2306]\n",
      " [ 0.2631 -0.5975 -0.2672] [ 0.307  -0.6115 -0.2329] [ 0.3045 -0.6223 -0.2433] [ 0.3319 -0.6367 -0.2224]\n",
      " [ 0.3113 -0.6585 -0.2467] [ 0.3353 -0.6754 -0.2221] [ 0.3218 -0.6669 -0.2714] [ 0.3428 -0.643  -0.3177]\n",
      " [ 0.3535 -0.6253 -0.3087] [ 0.3206 -0.6533 -0.324 ] [ 0.3687 -0.6632 -0.2897] [ 0.3681 -0.6664 -0.2926]\n",
      " [ 0.371  -0.6773 -0.2854] [ 0.4413 -0.6688 -0.249 ] [ 0.3518 -0.7249 -0.289 ] [ 0.3476 -0.7194 -0.293 ]\n",
      " [ 0.353  -0.7262 -0.2872] [ 0.3199 -0.7359 -0.3285] [ 0.3263 -0.7173 -0.3363] [ 0.3586 -0.6648 -0.3125]\n",
      " [ 0.3639 -0.6674 -0.319 ] [ 0.3495 -0.6837 -0.3384] [ 0.3313 -0.6979 -0.3445] [ 0.309  -0.7106 -0.3748]\n",
      " [ 0.3084 -0.7003 -0.3799] [ 0.3312 -0.7183 -0.3598] [ 0.3316 -0.727  -0.3547] [ 0.3293 -0.7349 -0.3674]\n",
      " [ 0.2626 -0.7625 -0.4015] [ 0.2718 -0.789  -0.3764] [ 0.2701 -0.798  -0.3711] [ 0.2682 -0.7998 -0.3727]\n",
      " [ 0.2596 -0.8065 -0.3786] [ 0.3136 -0.7593 -0.3562] [ 0.2958 -0.7204 -0.3762] [ 0.2742 -0.6775 -0.397 ]\n",
      " [ 0.2842 -0.6801 -0.4108] [ 0.328  -0.6984 -0.3751] [ 0.3546 -0.718  -0.3484] [ 0.3603 -0.7314 -0.3383]\n",
      " [ 0.344  -0.6309 -0.3762] [ 0.3873 -0.6448 -0.3422] [ 0.3863 -0.6491 -0.3465] [ 0.4123 -0.6627 -0.3266]\n",
      " [ 0.3942 -0.6819 -0.348 ] [ 0.4184 -0.6989 -0.3232] [ 0.4059 -0.6911 -0.3687] [ 0.4242 -0.6704 -0.4089]\n",
      " [ 0.4377 -0.6478 -0.3974] [ 0.3995 -0.6804 -0.4153] [ 0.4456 -0.69   -0.3824] [ 0.4461 -0.6873 -0.3799]\n",
      " [ 0.4495 -0.7001 -0.3714] [ 0.5139 -0.6923 -0.3381] [ 0.4199 -0.7512 -0.3801] [ 0.4147 -0.7445 -0.3849]\n",
      " [ 0.4201 -0.7512 -0.3793] [ 0.3888 -0.7604 -0.4183] [ 0.3916 -0.7522 -0.4218] [ 0.4289 -0.6916 -0.3943]\n",
      " [ 0.4281 -0.6912 -0.3932] [ 0.4155 -0.7055 -0.4103] [ 0.386  -0.7284 -0.4202] [ 0.3655 -0.7401 -0.4481]\n",
      " [ 0.3649 -0.7305 -0.4528] [ 0.3867 -0.7477 -0.4337] [ 0.3871 -0.7581 -0.4276] [ 0.3856 -0.7634 -0.4362]\n",
      " [ 0.3171 -0.7917 -0.4712] [ 0.3266 -0.8192 -0.4451] [ 0.3244 -0.8312 -0.4382] [ 0.3249 -0.8307 -0.4378]\n",
      " [ 0.3176 -0.8364 -0.4428] [ 0.3701 -0.7906 -0.421 ] [ 0.3502 -0.7471 -0.4434] [ 0.3263 -0.6997 -0.4664]\n",
      " [ 0.3322 -0.7012 -0.4746] [ 0.3757 -0.7193 -0.4392] [ 0.4024 -0.739  -0.4125] [ 0.4083 -0.7531 -0.4019]\n",
      " [ 0.3917 -0.6506 -0.4405] [ 0.4347 -0.6644 -0.4067] [ 0.4346 -0.665  -0.4073] [ 0.4597 -0.6781 -0.3881]\n",
      " [ 0.4432 -0.6957 -0.4077] [ 0.4674 -0.7128 -0.3828] [ 0.4556 -0.7054 -0.4261] [ 0.4722 -0.6865 -0.4627]\n",
      " [ 0.4874 -0.6611 -0.4498] [ 0.446  -0.6964 -0.4691] [ 0.491  -0.7058 -0.437 ] [ 0.4921 -0.6997 -0.4314]\n",
      " [ 0.4958 -0.7135 -0.4222] [ 0.5568 -0.7061 -0.3906] [ 0.4601 -0.7667 -0.4338] [ 0.4544 -0.7594 -0.4392]\n",
      " [ 0.4597 -0.766  -0.4336] [ 0.4294 -0.7748 -0.4714] [ 0.4301 -0.7728 -0.4722] [ 0.4704 -0.7074 -0.4425]\n",
      " [ 0.466  -0.7052 -0.4371] [ 0.4544 -0.7184 -0.4528] [ 0.4183 -0.7463 -0.4648] [ 0.3988 -0.7575 -0.4913]\n",
      " [ 0.3983 -0.7483 -0.4958] [ 0.4194 -0.765  -0.4772] [ 0.4199 -0.7764 -0.4706] [ 0.4188 -0.7802 -0.4768]\n",
      " [ 0.3493 -0.809  -0.5123] [ 0.359  -0.837  -0.4857] [ 0.3565 -0.8507 -0.4777] [ 0.3583 -0.8489 -0.4762]\n",
      " [ 0.3518 -0.854  -0.4807] [ 0.4034 -0.809  -0.4593] [ 0.3823 -0.7629 -0.483 ] [ 0.357  -0.7127 -0.5073]\n",
      " [ 0.3606 -0.7137 -0.5123] [ 0.4038 -0.7317 -0.4771] [ 0.4305 -0.7514 -0.4503] [ 0.4366 -0.7658 -0.4394]\n",
      " [ 0.4198 -0.6622 -0.4784] [ 0.4627 -0.676  -0.4448] [ 0.4631 -0.6743 -0.4432] [ 0.4877 -0.6872 -0.4244]\n",
      " [ 0.472  -0.7038 -0.443 ] [ 0.4964 -0.721  -0.418 ] [ 0.4849 -0.7138 -0.46  ] [ 0.5005 -0.696  -0.4944]\n",
      " [ 0.5167 -0.6689 -0.4807] [ 0.4734 -0.7059 -0.5009] [ 0.5177 -0.7151 -0.4692] [ 0.5192 -0.707  -0.4618]\n",
      " [ 0.5231 -0.7214 -0.4521] [ 0.5821 -0.7143 -0.4216] [ 0.4838 -0.7759 -0.4655] [ 0.4778 -0.7681 -0.4712]\n",
      " [ 0.4831 -0.7747 -0.4656] [ 0.4534 -0.7834 -0.5026] [ 0.4528 -0.785  -0.5019] [ 0.4949 -0.7167 -0.471 ]\n",
      " [ 0.4883 -0.7134 -0.4629] [ 0.4774 -0.726  -0.4778] [ 0.4374 -0.757  -0.4912] [ 0.4185 -0.7677 -0.5168]\n",
      " [ 0.418  -0.7589 -0.5212] [ 0.4387 -0.7752 -0.5029] [ 0.4393 -0.7872 -0.496 ] [ 0.4384 -0.7901 -0.5007]\n",
      " [ 0.3683 -0.8191 -0.5366] [ 0.3781 -0.8475 -0.5096] [ 0.3754 -0.8623 -0.5011] [ 0.3781 -0.8597 -0.4988]\n",
      " [ 0.3719 -0.8644 -0.5031] [ 0.423  -0.8199 -0.4819] [ 0.4013 -0.7722 -0.5064] [ 0.3751 -0.7204 -0.5315]\n",
      " [ 0.3773 -0.721  -0.5345] [ 0.4204 -0.739  -0.4994] [ 0.4471 -0.7587 -0.4726] [ 0.4533 -0.7733 -0.4615]\n",
      " [ 0.4364 -0.6691 -0.5008] [ 0.4792 -0.6828 -0.4673] [ 0.4799 -0.6798 -0.4644] [ 0.5042 -0.6925 -0.4458]\n",
      " [ 0.4891 -0.7086 -0.4638] [ 0.5134 -0.7258 -0.4387] [ 0.5021 -0.7187 -0.48  ] [ 0.5172 -0.7016 -0.5131]\n",
      " [ 0.534  -0.6736 -0.4989] [ 0.4896 -0.7115 -0.5196] [ 0.5335 -0.7206 -0.4882] [ 0.5352 -0.7112 -0.4797]\n",
      " [ 0.5392 -0.7261 -0.4698] [ 0.597  -0.7191 -0.4399] [ 0.4978 -0.7813 -0.4842] [ 0.4915 -0.7732 -0.4901]\n",
      " [ 0.4969 -0.7798 -0.4845] [ 0.4675 -0.7884 -0.5211] [ 0.4662 -0.7922 -0.5195] [ 0.5093 -0.7222 -0.4878]\n",
      " [ 0.5015 -0.7183 -0.4782] [ 0.4909 -0.7304 -0.4926] [ 0.4486 -0.7632 -0.5067] [ 0.4301 -0.7738 -0.5318]\n",
      " [ 0.4296 -0.7651 -0.5361] [ 0.4501 -0.7813 -0.5181] [ 0.4507 -0.7935 -0.511 ] [ 0.45   -0.796  -0.5148]\n",
      " [ 0.3795 -0.8251 -0.5509] [ 0.3894 -0.8537 -0.5237] [ 0.3865 -0.8691 -0.5148] [ 0.3897 -0.866  -0.5122]\n",
      " [ 0.3839 -0.8706 -0.5163] [ 0.4346 -0.8263 -0.4952] [ 0.4124 -0.7777 -0.5201] [ 0.3858 -0.725  -0.5457]\n",
      " [ 0.3872 -0.7253 -0.5476] [ 0.4302 -0.7433 -0.5125] [ 0.4569 -0.763  -0.4857] [ 0.4632 -0.7778 -0.4746]\n",
      " [ 0.4462 -0.6731 -0.514 ] [ 0.4889 -0.6868 -0.4805] [ 0.4898 -0.6831 -0.4769] [ 0.5139 -0.6957 -0.4584]\n",
      " [ 0.4991 -0.7114 -0.476 ] [ 0.5235 -0.7286 -0.4509] [ 0.5123 -0.7217 -0.4918] [ 0.5271 -0.705  -0.5242]\n",
      " [ 0.5442 -0.6763 -0.5096] [ 0.4991 -0.7148 -0.5307] [ 0.5429 -0.7238 -0.4995] [ 0.5447 -0.7138 -0.4903]\n",
      " [ 0.5487 -0.7288 -0.4802] [ 0.6058 -0.7219 -0.4507] [ 0.5061 -0.7845 -0.4952] [ 0.4997 -0.7763 -0.5012]\n",
      " [ 0.505  -0.7828 -0.4957] [ 0.4758 -0.7914 -0.532 ] [ 0.4741 -0.7964 -0.5298] [ 0.5179 -0.7254 -0.4977]\n",
      " [ 0.5093 -0.7212 -0.4872] [ 0.4989 -0.7331 -0.5013] [ 0.4552 -0.7669 -0.5159] [ 0.4369 -0.7774 -0.5407]\n",
      " [ 0.4365 -0.7687 -0.545 ] [ 0.4569 -0.7848 -0.5271] [ 0.4574 -0.7973 -0.5198] [ 0.4568 -0.7994 -0.5232]\n",
      " [ 0.3861 -0.8287 -0.5593] [ 0.396  -0.8574 -0.5321] [ 0.3931 -0.8731 -0.523 ] [ 0.3966 -0.8698 -0.5201]\n",
      " [ 0.3909 -0.8742 -0.524 ] [ 0.4415 -0.8301 -0.503 ] [ 0.419  -0.781  -0.5283] [ 0.3921 -0.7277 -0.5541]\n",
      " [ 0.393  -0.7279 -0.5553] [ 0.436  -0.7458 -0.5203] [ 0.4627 -0.7656 -0.4935] [ 0.469  -0.7804 -0.4823]\n",
      " [ 0.452  -0.6755 -0.5218] [ 0.4947 -0.6892 -0.4883] [ 0.4957 -0.685  -0.4843] [ 0.5197 -0.6975 -0.4659]\n",
      " [ 0.505  -0.7131 -0.4833] [ 0.5295 -0.7303 -0.4582] [ 0.5184 -0.7234 -0.4988] [ 0.5329 -0.7069 -0.5307]\n",
      " [ 0.5503 -0.6779 -0.516 ] [ 0.5048 -0.7167 -0.5372] [ 0.5483 -0.7257 -0.5061] [ 0.5502 -0.7153 -0.4965]\n",
      " [ 0.5543 -0.7305 -0.4864] [ 0.611  -0.7236 -0.457 ] [ 0.5109 -0.7864 -0.5018] [ 0.5045 -0.7781 -0.5078]\n",
      " [ 0.5098 -0.7846 -0.5022] [ 0.4808 -0.7931 -0.5384] [ 0.4788 -0.7989 -0.536 ] [ 0.5229 -0.7274 -0.5035]\n",
      " [ 0.5139 -0.7229 -0.4925] [ 0.5036 -0.7346 -0.5064] [ 0.4591 -0.7691 -0.5213] [ 0.441  -0.7795 -0.546 ]\n"
     ]
    }
   ],
   "source": [
    "# A coroutine that receives data and prints it\n",
    "def printer():\n",
    "    i = 0\n",
    "    line=\"\"\n",
    "    while True:\n",
    "        vec = yield\n",
    "        if vec.size == 1:\n",
    "            if i > 0:\n",
    "                # print anything that is left in the buffer\n",
    "                print(line)\n",
    "                i = 0\n",
    "                line = \"\"\n",
    "        else:\n",
    "            i = i + 1\n",
    "            line = line + \" \" + str(np.round(vec,4))\n",
    "            if i % 4 == 0:\n",
    "                print(line)\n",
    "                line = \"\"\n",
    "                i = 0\n",
    "\n",
    "printer_handler = printer()\n",
    "# start the printer\n",
    "printer_handler.send(None)\n",
    "\n",
    "# we need 3 parameters: one for x, one for y, and one for the bias term\n",
    "w = np.random.normal(0, 0.5, 3)\n",
    "# learning rate\n",
    "epsilon = 0.05\n",
    "delta = 100\n",
    "iteration = 0\n",
    "precision=0.01\n",
    "\n",
    "while delta > precision and iteration < 10:\n",
    "    iteration = iteration + 1\n",
    "    # to be consistent with the textbook, we will process one data point at a time\n",
    "    for s in data:\n",
    "        # compute the linear activation (predicted output)\n",
    "        s_with_bias = np.copy(s)\n",
    "        s_with_bias[2] = 1 # the last element is used as the bias activation\n",
    "        o_k =  w.dot(s_with_bias) # see Eq. 5.6 in O'reilly & Munakata (2000)\n",
    "        t_k = s[2]\n",
    "        # the delta rule equation in the vector form\n",
    "        delta_w = epsilon * (t_k - o_k) * s_with_bias # see Eq. 5.3\n",
    "        w = w + delta_w\n",
    "        # if the max change is tiny, we will stop learning in the while loop\n",
    "        delta=np.max(np.absolute(delta_w))\n",
    "        # print the current weights\n",
    "        printer_handler.send(w)\n",
    "\n",
    "# print the remaining values if there are any\n",
    "printer_handler.send(np.zeros([1,1]))"
   ]
  },
  {
   "cell_type": "markdown",
   "metadata": {
    "pycharm": {
     "name": "#%% md\n"
    }
   },
   "source": [
    "## The Final Decision Boundary and the Threshold\n",
    "\n",
    "Our class attribute has values -1 and 1 whereas the outputs of the linear model are between minus and plus infinity. This means that we need to introduce a threshold that will allow us to map the continuous output to the class value. A threshold of zero is a good default choice because it lies between -1 and 1. With that, all\n",
    "activations that are negative will be mapped to class -1, and all activations that are positive or zero will be mapped to class +1.\n",
    "\n",
    "Our decision boundary in 3D is $z=w[0]\\times x + w[1]\\times y + w[2]$. When the threshold is zero, this boundary in the 2D space defined by the xy-plane becomes $y = -\\frac{w[0]}{w[1]}\\times x-\\frac{w[2]}{w[1]}$. This will be the red line in the figure below."
   ]
  },
  {
   "cell_type": "code",
   "execution_count": 29,
   "metadata": {
    "pycharm": {
     "name": "#%%\n"
    }
   },
   "outputs": [
    {
     "data": {
      "text/plain": "<Figure size 432x288 with 1 Axes>",
      "image/png": "[encoded data removed]"
     },
     "metadata": {
      "needs_background": "light"
     },
     "output_type": "display_data"
    }
   ],
   "source": [
    "# plot the final line\n",
    "\n",
    "# construct the line using 100 points\n",
    "x = np.linspace(np.min(data[:,0]),np.max(data[:,0]),100)\n",
    "# this equation corresponds to our decision boundary on the xy-plane when the threshold is zero\n",
    "y = -w[0]/w[1]*x-w[2]/w[1]\n",
    "ymin = np.min(data[:,1])\n",
    "ymax = np.max(data[:,1])\n",
    "\n",
    "# plot the data and the line\n",
    "plt.ylim(ymin-0.3, ymax+0.3)\n",
    "# plot two classes separately\n",
    "plt.scatter(data1[:,0], data1[:,1], c='green', label='Class -1' )\n",
    "plt.scatter(data2[:,0], data2[:,1], c='blue', label='Class 1' )\n",
    "plt.plot(x, y, '-r', label='boundary')\n",
    "plt.legend()\n",
    "plt.show()"
   ]
  },
  {
   "cell_type": "markdown",
   "metadata": {
    "pycharm": {
     "name": "#%% md\n"
    }
   },
   "source": [
    "## Error on Training Data\n",
    "\n",
    "We will compute the number of errors on the training data."
   ]
  },
  {
   "cell_type": "code",
   "execution_count": 30,
   "metadata": {
    "pycharm": {
     "name": "#%%\n"
    }
   },
   "outputs": [
    {
     "name": "stdout",
     "output_type": "stream",
     "text": [
      "SSE on training data: 7.7293751764241865\n",
      "Number of errors on training data: 0\n"
     ]
    }
   ],
   "source": [
    "# we need to add bias activations in the last column\n",
    "data_with_bias = np.copy(data)\n",
    "data_with_bias[:,2]=1\n",
    "\n",
    "# predictions are the outputs computed by the linear model\n",
    "predictions = w.dot(data_with_bias.transpose())\n",
    "\n",
    "# compute the summed squared error with respect to the linear activation; i.e., we want to see see how well the linear function approximates the values of our class attribute\n",
    "SSE = np.sum(np.square(predictions-data[:,2]))\n",
    "\n",
    "# this is the same threshold that we used to derive the red decision boundary above; with this threshold, our classification below will be consistent with the red line above\n",
    "threshold = 0\n",
    "\n",
    "# apply threshold to make discrete decisions\n",
    "predictions[predictions<threshold] = -1\n",
    "predictions[predictions>=threshold] = 1\n",
    "# print(predictions)\n",
    "# print(data[:,2])\n",
    "\n",
    "# diff will be zero when the classification is correct\n",
    "diff = predictions - data[:,2]\n",
    "# indices of data items with incorrect predictions\n",
    "erroneous = diff.nonzero()[0]\n",
    "# count the number of incorrect predictions\n",
    "accuracy = np.size(erroneous)\n",
    "\n",
    "print(\"SSE on training data: \" + str(SSE) )\n",
    "print(\"Number of errors on training data: \" + str(accuracy) )"
   ]
  },
  {
   "cell_type": "markdown",
   "metadata": {
    "collapsed": true,
    "pycharm": {
     "name": "#%% md\n"
    }
   },
   "source": [
    "## Questions\n",
    "\n",
    "You are not required to answer all the questions that are below. I would encourage you to attempt the first five. The last two questions require a certain amount of coding in Python, and they can be skipped by those who are not interested in further exploration.\n",
    "\n",
    "1. Read this notebook and analyse all sections trying to understand them and trying to see the link with the textbook and the lectures.\n",
    "\n",
    "2. The red line in Sec. _\"The Final Decision Boundary and the Threshold\"_ is the decision boundary for our classification problem, and it corresponds to the threshold of zero. How would this decision boundary change if\n",
    "the threshold was smaller or greater than zero? Note which data points have the class -1 and which +1; this can be seen in the legend in the figure. You may want to do subsequent questions first if this question is challenging for you initially.\n",
    "\n",
    "2. Add computation of the Summed Squared Error (SSE) in the \"while\" loop of the learning algorithm and print its value. Note that we are interested in the SSE between the true class value and the linear output of our neural network because this is what the delta rule optimises.\n",
    "\n",
    "3. In the current implementation, the final decision boundary (the red line above)\n",
    " is plotted after the learning process has finished. Your task is to plot the\n",
    " data and the current boundary in the \"while\" or \"for\" loop of the learning algorithm. The goal is to investigate how the decision boundary is changing during learning, and to contrast those changes with the changes in the SSE. You basically want to see the decision boundary after every application of the delta rule equation.\n",
    "\n",
    "4. If you run the simulation many times, you will notice that the SSE may be non-zero even if the number of classification errors on the training data is zero. Explain how this is possible.\n",
    "\n",
    "5. The decision boundary that is learned has the form: $z=w[0]\\times x+w[1]\\times y+w[2]$ where $z$ is the last column in our training data, and it represents the class attribute.  Similarly, $x$ and $y$ are the first and the second columns in the data array respectively. This means that strictly speaking the decision boundary is a plane located in a 3-dimensional xyz-space. Explain how this plane is placed with respect to the flat scatterplot of the data examples in their xy-plane (i.e. the graph with the red line). After trying to estimate the location of the separating hyperplane in 3D, you could construct a 3-dimensional version of the this plot to see where exactly this plane is located. An example 3D scatterplot in mathplotib is here https://matplotlib.org/3.1.1/gallery/mplot3d/scatter3d.html\n",
    "\n",
    "6. Add sigmoidal activation to this implementation. Note that assuming that we are switching the Cross-Entropy error (CE) instead of the Summed Squared Error (SSE), the update equation for the delta rule remains unchanged. The only difference is the activation function that is sigmoidal and takes the original linear activation as input. This is well explained in Sec. 5.4 in O'reilly & Munakata (2000). Since the range of the sigmoid function is the interval $[0,1]$, it would make sense to replace the class -1 with 0 in our data."
   ]
  },
  {
   "cell_type": "markdown",
   "metadata": {
    "pycharm": {
     "name": "#%% md\n"
    }
   },
   "source": [
    "## References\n",
    "\n",
    "O'reilly, Randall C., and Yuko Munakata. Computational explorations in cognitive neuroscience: Understanding the mind by simulating the brain. MIT press, 2000.\n"
   ]
  },
  {
   "cell_type": "markdown",
   "metadata": {
    "pycharm": {
     "name": "#%% md\n"
    }
   },
   "source": [
    "<small>This document was written in Pycharm Professional and compiled using Python 3.8 with standard packages available in Ubuntu 20.04.</small>\n"
   ]
  }
 ],
 "metadata": {
  "kernelspec": {
   "display_name": "PyCharm (python-delta-rule)",
   "language": "python",
   "name": "pycharm-eef80f61"
  },
  "language_info": {
   "codemirror_mode": {
    "name": "ipython",
    "version": 3
   },
   "file_extension": ".py",
   "mimetype": "text/x-python",
   "name": "python",
   "nbconvert_exporter": "python",
   "pygments_lexer": "ipython3",
   "version": "3.8.5"
  }
 },
 "nbformat": 4,
 "nbformat_minor": 1
}